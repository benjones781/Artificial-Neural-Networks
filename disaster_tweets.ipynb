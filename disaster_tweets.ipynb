{
 "cells": [
  {
   "cell_type": "code",
   "execution_count": 1,
   "metadata": {},
   "outputs": [
    {
     "name": "stderr",
     "output_type": "stream",
     "text": [
      "Using TensorFlow backend.\n"
     ]
    }
   ],
   "source": [
    "from __future__ import absolute_import, division, print_function, unicode_literals\n",
    "from sklearn.model_selection import train_test_split\n",
    "from sklearn.utils import shuffle\n",
    "from keras import optimizers\n",
    "import tensorflow as tf\n",
    "import tensorflow_hub as hub\n",
    "import tensorflow_datasets as tfds\n",
    "import numpy as np\n",
    "import pandas as pd\n",
    "import matplotlib.pyplot as plt\n",
    "import os\n",
    "\n",
    "#!pip list"
   ]
  },
  {
   "cell_type": "markdown",
   "metadata": {},
   "source": [
    "## 1. Upload and Clean Dataset"
   ]
  },
  {
   "cell_type": "code",
   "execution_count": 2,
   "metadata": {},
   "outputs": [
    {
     "data": {
      "text/html": [
       "<div>\n",
       "<style scoped>\n",
       "    .dataframe tbody tr th:only-of-type {\n",
       "        vertical-align: middle;\n",
       "    }\n",
       "\n",
       "    .dataframe tbody tr th {\n",
       "        vertical-align: top;\n",
       "    }\n",
       "\n",
       "    .dataframe thead th {\n",
       "        text-align: right;\n",
       "    }\n",
       "</style>\n",
       "<table border=\"1\" class=\"dataframe\">\n",
       "  <thead>\n",
       "    <tr style=\"text-align: right;\">\n",
       "      <th></th>\n",
       "      <th>_unit_id</th>\n",
       "      <th>_golden</th>\n",
       "      <th>_unit_state</th>\n",
       "      <th>_trusted_judgments</th>\n",
       "      <th>_last_judgment_at</th>\n",
       "      <th>choose_one</th>\n",
       "      <th>choose_one:confidence</th>\n",
       "      <th>choose_one_gold</th>\n",
       "      <th>keyword</th>\n",
       "      <th>location</th>\n",
       "      <th>text</th>\n",
       "      <th>tweetid</th>\n",
       "      <th>userid</th>\n",
       "    </tr>\n",
       "  </thead>\n",
       "  <tbody>\n",
       "    <tr>\n",
       "      <td>0</td>\n",
       "      <td>778243823</td>\n",
       "      <td>True</td>\n",
       "      <td>golden</td>\n",
       "      <td>156</td>\n",
       "      <td>NaN</td>\n",
       "      <td>Relevant</td>\n",
       "      <td>1.0000</td>\n",
       "      <td>Relevant</td>\n",
       "      <td>NaN</td>\n",
       "      <td>NaN</td>\n",
       "      <td>Just happened a terrible car crash</td>\n",
       "      <td>1.0</td>\n",
       "      <td>NaN</td>\n",
       "    </tr>\n",
       "    <tr>\n",
       "      <td>1</td>\n",
       "      <td>778243824</td>\n",
       "      <td>True</td>\n",
       "      <td>golden</td>\n",
       "      <td>152</td>\n",
       "      <td>NaN</td>\n",
       "      <td>Relevant</td>\n",
       "      <td>1.0000</td>\n",
       "      <td>Relevant</td>\n",
       "      <td>NaN</td>\n",
       "      <td>NaN</td>\n",
       "      <td>Our Deeds are the Reason of this #earthquake M...</td>\n",
       "      <td>13.0</td>\n",
       "      <td>NaN</td>\n",
       "    </tr>\n",
       "    <tr>\n",
       "      <td>2</td>\n",
       "      <td>778243825</td>\n",
       "      <td>True</td>\n",
       "      <td>golden</td>\n",
       "      <td>137</td>\n",
       "      <td>NaN</td>\n",
       "      <td>Relevant</td>\n",
       "      <td>1.0000</td>\n",
       "      <td>Relevant</td>\n",
       "      <td>NaN</td>\n",
       "      <td>NaN</td>\n",
       "      <td>Heard about #earthquake is different cities, s...</td>\n",
       "      <td>14.0</td>\n",
       "      <td>NaN</td>\n",
       "    </tr>\n",
       "    <tr>\n",
       "      <td>3</td>\n",
       "      <td>778243826</td>\n",
       "      <td>True</td>\n",
       "      <td>golden</td>\n",
       "      <td>136</td>\n",
       "      <td>NaN</td>\n",
       "      <td>Relevant</td>\n",
       "      <td>0.9603</td>\n",
       "      <td>Relevant</td>\n",
       "      <td>NaN</td>\n",
       "      <td>NaN</td>\n",
       "      <td>there is a forest fire at spot pond, geese are...</td>\n",
       "      <td>15.0</td>\n",
       "      <td>NaN</td>\n",
       "    </tr>\n",
       "    <tr>\n",
       "      <td>4</td>\n",
       "      <td>778243827</td>\n",
       "      <td>True</td>\n",
       "      <td>golden</td>\n",
       "      <td>138</td>\n",
       "      <td>NaN</td>\n",
       "      <td>Relevant</td>\n",
       "      <td>1.0000</td>\n",
       "      <td>Relevant</td>\n",
       "      <td>NaN</td>\n",
       "      <td>NaN</td>\n",
       "      <td>Forest fire near La Ronge Sask. Canada</td>\n",
       "      <td>16.0</td>\n",
       "      <td>NaN</td>\n",
       "    </tr>\n",
       "  </tbody>\n",
       "</table>\n",
       "</div>"
      ],
      "text/plain": [
       "    _unit_id  _golden _unit_state  _trusted_judgments _last_judgment_at  \\\n",
       "0  778243823     True      golden                 156               NaN   \n",
       "1  778243824     True      golden                 152               NaN   \n",
       "2  778243825     True      golden                 137               NaN   \n",
       "3  778243826     True      golden                 136               NaN   \n",
       "4  778243827     True      golden                 138               NaN   \n",
       "\n",
       "  choose_one  choose_one:confidence choose_one_gold keyword location  \\\n",
       "0   Relevant                 1.0000        Relevant     NaN      NaN   \n",
       "1   Relevant                 1.0000        Relevant     NaN      NaN   \n",
       "2   Relevant                 1.0000        Relevant     NaN      NaN   \n",
       "3   Relevant                 0.9603        Relevant     NaN      NaN   \n",
       "4   Relevant                 1.0000        Relevant     NaN      NaN   \n",
       "\n",
       "                                                text  tweetid  userid  \n",
       "0                 Just happened a terrible car crash      1.0     NaN  \n",
       "1  Our Deeds are the Reason of this #earthquake M...     13.0     NaN  \n",
       "2  Heard about #earthquake is different cities, s...     14.0     NaN  \n",
       "3  there is a forest fire at spot pond, geese are...     15.0     NaN  \n",
       "4             Forest fire near La Ronge Sask. Canada     16.0     NaN  "
      ]
     },
     "execution_count": 2,
     "metadata": {},
     "output_type": "execute_result"
    }
   ],
   "source": [
    "#data can be downloaded here https://www.figure-eight.com/data-for-everyone/\n",
    "raw_data = pd.read_csv('/Users/benjamin.jones/Desktop/Disaster Tweets/socialmedia-disaster-tweets-DFE.csv', encoding='latin-1')\n",
    "raw_data.head()"
   ]
  },
  {
   "cell_type": "markdown",
   "metadata": {},
   "source": [
    "**extract only the necessary columns**"
   ]
  },
  {
   "cell_type": "code",
   "execution_count": 3,
   "metadata": {},
   "outputs": [
    {
     "data": {
      "text/html": [
       "<div>\n",
       "<style scoped>\n",
       "    .dataframe tbody tr th:only-of-type {\n",
       "        vertical-align: middle;\n",
       "    }\n",
       "\n",
       "    .dataframe tbody tr th {\n",
       "        vertical-align: top;\n",
       "    }\n",
       "\n",
       "    .dataframe thead th {\n",
       "        text-align: right;\n",
       "    }\n",
       "</style>\n",
       "<table border=\"1\" class=\"dataframe\">\n",
       "  <thead>\n",
       "    <tr style=\"text-align: right;\">\n",
       "      <th></th>\n",
       "      <th>choose_one</th>\n",
       "      <th>text</th>\n",
       "    </tr>\n",
       "  </thead>\n",
       "  <tbody>\n",
       "    <tr>\n",
       "      <td>0</td>\n",
       "      <td>Relevant</td>\n",
       "      <td>Just happened a terrible car crash</td>\n",
       "    </tr>\n",
       "    <tr>\n",
       "      <td>1</td>\n",
       "      <td>Relevant</td>\n",
       "      <td>Our Deeds are the Reason of this #earthquake M...</td>\n",
       "    </tr>\n",
       "    <tr>\n",
       "      <td>2</td>\n",
       "      <td>Relevant</td>\n",
       "      <td>Heard about #earthquake is different cities, s...</td>\n",
       "    </tr>\n",
       "    <tr>\n",
       "      <td>3</td>\n",
       "      <td>Relevant</td>\n",
       "      <td>there is a forest fire at spot pond, geese are...</td>\n",
       "    </tr>\n",
       "    <tr>\n",
       "      <td>4</td>\n",
       "      <td>Relevant</td>\n",
       "      <td>Forest fire near La Ronge Sask. Canada</td>\n",
       "    </tr>\n",
       "  </tbody>\n",
       "</table>\n",
       "</div>"
      ],
      "text/plain": [
       "  choose_one                                               text\n",
       "0   Relevant                 Just happened a terrible car crash\n",
       "1   Relevant  Our Deeds are the Reason of this #earthquake M...\n",
       "2   Relevant  Heard about #earthquake is different cities, s...\n",
       "3   Relevant  there is a forest fire at spot pond, geese are...\n",
       "4   Relevant             Forest fire near La Ronge Sask. Canada"
      ]
     },
     "execution_count": 3,
     "metadata": {},
     "output_type": "execute_result"
    }
   ],
   "source": [
    "data = raw_data[['choose_one','text']]\n",
    "data.head()"
   ]
  },
  {
   "cell_type": "markdown",
   "metadata": {},
   "source": [
    "**quick exploroatary analysis. checking for:**  \n",
    "\n",
    "**1. empty rows**  \n",
    "**2. unique labels**"
   ]
  },
  {
   "cell_type": "code",
   "execution_count": 4,
   "metadata": {},
   "outputs": [
    {
     "data": {
      "text/plain": [
       "choose_one    0\n",
       "text          0\n",
       "dtype: int64"
      ]
     },
     "execution_count": 4,
     "metadata": {},
     "output_type": "execute_result"
    }
   ],
   "source": [
    "data.isna().sum()"
   ]
  },
  {
   "cell_type": "code",
   "execution_count": 5,
   "metadata": {
    "scrolled": true
   },
   "outputs": [
    {
     "data": {
      "text/plain": [
       "count            10876\n",
       "unique               3\n",
       "top       Not Relevant\n",
       "freq              6187\n",
       "Name: choose_one, dtype: object"
      ]
     },
     "execution_count": 5,
     "metadata": {},
     "output_type": "execute_result"
    }
   ],
   "source": [
    "data['choose_one'].describe()"
   ]
  },
  {
   "cell_type": "code",
   "execution_count": 6,
   "metadata": {},
   "outputs": [
    {
     "data": {
      "text/plain": [
       "{\"Can't Decide\", 'Not Relevant', 'Relevant'}"
      ]
     },
     "execution_count": 6,
     "metadata": {},
     "output_type": "execute_result"
    }
   ],
   "source": [
    "set(data['choose_one'])"
   ]
  },
  {
   "cell_type": "markdown",
   "metadata": {},
   "source": [
    "**remove \"can't decide\" label so output is binary** "
   ]
  },
  {
   "cell_type": "code",
   "execution_count": 7,
   "metadata": {},
   "outputs": [],
   "source": [
    "data = data[data['choose_one']!=\"Can't Decide\"]\n"
   ]
  },
  {
   "cell_type": "markdown",
   "metadata": {},
   "source": [
    "**double check labels are now binary** "
   ]
  },
  {
   "cell_type": "code",
   "execution_count": 8,
   "metadata": {},
   "outputs": [
    {
     "data": {
      "text/plain": [
       "{'Not Relevant', 'Relevant'}"
      ]
     },
     "execution_count": 8,
     "metadata": {},
     "output_type": "execute_result"
    }
   ],
   "source": [
    "set(data['choose_one'])"
   ]
  },
  {
   "cell_type": "markdown",
   "metadata": {},
   "source": [
    "**convert labels to 0 for not disaster and 1 for disaster**"
   ]
  },
  {
   "cell_type": "code",
   "execution_count": 9,
   "metadata": {},
   "outputs": [
    {
     "data": {
      "text/plain": [
       "0        Relevant\n",
       "1        Relevant\n",
       "2        Relevant\n",
       "3        Relevant\n",
       "4        Relevant\n",
       "           ...   \n",
       "10871    Relevant\n",
       "10872    Relevant\n",
       "10873    Relevant\n",
       "10874    Relevant\n",
       "10875    Relevant\n",
       "Name: choose_one, Length: 10860, dtype: object"
      ]
     },
     "execution_count": 9,
     "metadata": {},
     "output_type": "execute_result"
    }
   ],
   "source": [
    "data['label'] = 0\n",
    "data.loc[data.choose_one == 'Relevant', 'label'] = 1\n",
    "data.pop('choose_one')"
   ]
  },
  {
   "cell_type": "markdown",
   "metadata": {},
   "source": [
    "### **We have a total sample size of 10,860 with 57% non-disaster and 43% disaster**"
   ]
  },
  {
   "cell_type": "code",
   "execution_count": 10,
   "metadata": {},
   "outputs": [
    {
     "data": {
      "text/plain": [
       "0    6187\n",
       "1    4673\n",
       "Name: label, dtype: int64"
      ]
     },
     "execution_count": 10,
     "metadata": {},
     "output_type": "execute_result"
    }
   ],
   "source": [
    "data['label'].value_counts()"
   ]
  },
  {
   "cell_type": "code",
   "execution_count": 11,
   "metadata": {},
   "outputs": [
    {
     "data": {
      "image/png": "[encoded data removed]",
      "text/plain": [
       "<Figure size 576x432 with 1 Axes>"
      ]
     },
     "metadata": {
      "needs_background": "light"
     },
     "output_type": "display_data"
    }
   ],
   "source": [
    "plt.figure(figsize=(8, 6))\n",
    "ax = pd.Series(data['label'].value_counts()).plot(kind='bar', color='black') #raw, data values\n",
    "ax.set_xlabel('Disaster')\n",
    "ax.set_ylabel('Count')\n",
    "ax.set_xticklabels(['not disaster', 'disaster'])\n",
    "\n",
    "labels = data['label'].value_counts() #raw data values to be used as chart labels\n",
    "rects = ax.patches\n",
    "\n",
    "for rect, label in zip(rects, labels):\n",
    "    height = rect.get_height()\n",
    "    ax.text(rect.get_x() + rect.get_width() / 2, height + 5, label,\n",
    "            ha='center', va='bottom')"
   ]
  },
  {
   "cell_type": "code",
   "execution_count": 12,
   "metadata": {},
   "outputs": [
    {
     "data": {
      "text/html": [
       "<div>\n",
       "<style scoped>\n",
       "    .dataframe tbody tr th:only-of-type {\n",
       "        vertical-align: middle;\n",
       "    }\n",
       "\n",
       "    .dataframe tbody tr th {\n",
       "        vertical-align: top;\n",
       "    }\n",
       "\n",
       "    .dataframe thead th {\n",
       "        text-align: right;\n",
       "    }\n",
       "</style>\n",
       "<table border=\"1\" class=\"dataframe\">\n",
       "  <thead>\n",
       "    <tr style=\"text-align: right;\">\n",
       "      <th></th>\n",
       "      <th>text</th>\n",
       "      <th>label</th>\n",
       "    </tr>\n",
       "  </thead>\n",
       "  <tbody>\n",
       "    <tr>\n",
       "      <td>1602</td>\n",
       "      <td>@BrodyFrieling @hanna_brooksie photo bombed</td>\n",
       "      <td>0</td>\n",
       "    </tr>\n",
       "    <tr>\n",
       "      <td>7648</td>\n",
       "      <td>@brokenscnecal I just though about panic! at t...</td>\n",
       "      <td>0</td>\n",
       "    </tr>\n",
       "    <tr>\n",
       "      <td>5532</td>\n",
       "      <td>Flattened thee striker</td>\n",
       "      <td>1</td>\n",
       "    </tr>\n",
       "    <tr>\n",
       "      <td>3695</td>\n",
       "      <td>As I catch the last few minutes. Finally Monwa...</td>\n",
       "      <td>0</td>\n",
       "    </tr>\n",
       "    <tr>\n",
       "      <td>7839</td>\n",
       "      <td>Reddit updates content policy promises to quar...</td>\n",
       "      <td>0</td>\n",
       "    </tr>\n",
       "  </tbody>\n",
       "</table>\n",
       "</div>"
      ],
      "text/plain": [
       "                                                   text  label\n",
       "1602        @BrodyFrieling @hanna_brooksie photo bombed      0\n",
       "7648  @brokenscnecal I just though about panic! at t...      0\n",
       "5532                             Flattened thee striker      1\n",
       "3695  As I catch the last few minutes. Finally Monwa...      0\n",
       "7839  Reddit updates content policy promises to quar...      0"
      ]
     },
     "execution_count": 12,
     "metadata": {},
     "output_type": "execute_result"
    }
   ],
   "source": [
    "data = data.sample(frac=1) #shuffle for good measure\n",
    "data.head()"
   ]
  },
  {
   "cell_type": "markdown",
   "metadata": {},
   "source": [
    "### 1.1 Split into Training/Validation\n",
    "\n",
    "**Here we will use 75% of the dataset for training and 25% for validation (testing). It is also important to consider the distribution of each label. In this case, we have 6,187 non-disaster cases and 4,673 disaster cases. Since we have roughly the same amount of both labels, we won't need to do anything further (but we will double check to be safe).**\n",
    "\n",
    "**Note: it is quite likely in other scenarios to have imbalanced data. For example, you may have data for a rare genetic disease. Perhaps only 5% of the dataset contains positive cases for this disease while 95% are negative. In situations like this, it is important that both the training and vaildation sets have the same distribution of lables (%5 positive and 95% neagtive).**"
   ]
  },
  {
   "cell_type": "code",
   "execution_count": 13,
   "metadata": {},
   "outputs": [],
   "source": [
    "#convert dataframe into arrays, the format to use for ANN\n",
    "x = data.iloc[:,0].values #inputs\n",
    "y = data.iloc[:,1].values #labels"
   ]
  },
  {
   "cell_type": "code",
   "execution_count": 14,
   "metadata": {},
   "outputs": [],
   "source": [
    "x_train, x_val, y_train, y_val = train_test_split(x, y, test_size = 0.25) #25% for validation, 75% for training"
   ]
  },
  {
   "cell_type": "markdown",
   "metadata": {},
   "source": [
    "**As you can see below, both the training and validation set have about the same balance of disaster and non-disaster cases, so no further action is needed.**"
   ]
  },
  {
   "cell_type": "code",
   "execution_count": 15,
   "metadata": {},
   "outputs": [
    {
     "name": "stdout",
     "output_type": "stream",
     "text": [
      "Training Set\n",
      "[[   0    1]\n",
      " [4680 3465]]\n",
      "57.46 % 0 (not disaster)\n",
      "42.54 % 1 (disaster)\n"
     ]
    }
   ],
   "source": [
    "unique_elements, counts_elements = np.unique(y_train, return_counts=True)\n",
    "print(\"Training Set\")\n",
    "print(np.asarray((unique_elements, counts_elements)))\n",
    "print(round(counts_elements[0]/(sum(counts_elements))*100,2), \"% 0 (not disaster)\")\n",
    "print(round(100-(counts_elements[0]/(sum(counts_elements))*100),2), \"% 1 (disaster)\")"
   ]
  },
  {
   "cell_type": "code",
   "execution_count": 16,
   "metadata": {},
   "outputs": [
    {
     "name": "stdout",
     "output_type": "stream",
     "text": [
      "Validation Set\n",
      "[[   0    1]\n",
      " [1507 1208]]\n",
      "55.51 % 0 (not disaster)\n",
      "44.49 % 1 (disaster)\n"
     ]
    }
   ],
   "source": [
    "unique_elements, counts_elements = np.unique(y_val, return_counts=True)\n",
    "print(\"Validation Set\")\n",
    "print(np.asarray((unique_elements, counts_elements)))\n",
    "print(round(counts_elements[0]/(sum(counts_elements))*100,2), \"% 0 (not disaster)\")\n",
    "print(round(100-(counts_elements[0]/(sum(counts_elements))*100),2), \"% 1 (disaster)\")"
   ]
  },
  {
   "cell_type": "markdown",
   "metadata": {},
   "source": [
    "## 2 Model"
   ]
  },
  {
   "cell_type": "markdown",
   "metadata": {},
   "source": [
    "### 2.1 Set up Model Saving"
   ]
  },
  {
   "cell_type": "code",
   "execution_count": 17,
   "metadata": {},
   "outputs": [
    {
     "name": "stdout",
     "output_type": "stream",
     "text": [
      "/Users/benjamin.jones/Desktop/Disaster Tweets/Checkpoints/cp-0020\n"
     ]
    }
   ],
   "source": [
    "#save the model at this location after every epoch\n",
    "checkpoint_path = '/Users/benjamin.jones/Desktop/Disaster Tweets/Checkpoints/cp-{epoch:04d}' #unique name for each saved checkpoint (after every 1 epoch)\n",
    "checkpoint_dir = os.path.dirname(checkpoint_path)\n",
    "cp_callback = tf.keras.callbacks.ModelCheckpoint(checkpoint_path,\n",
    "                                                save_weights_only=True,\n",
    "                                                verbose=1,\n",
    "                                                save_freq='epoch' #save after every epoch\n",
    "                                                )\n",
    "latest = tf.train.latest_checkpoint(checkpoint_dir) #returns file name of latest checkpoint\n",
    "print(latest)"
   ]
  },
  {
   "cell_type": "code",
   "execution_count": 18,
   "metadata": {},
   "outputs": [],
   "source": [
    "#Optional: load a saved model\n",
    "#model.load_weights(latest) #loads weights of the most reccent saved model (adjust if latest not desired)"
   ]
  },
  {
   "cell_type": "markdown",
   "metadata": {},
   "source": [
    "### 2.2 Embedding Vectors\n",
    "\n",
    "**This is a learned, vector (numerical) representation for text where words that have similar meaning are represented similarly. We can use a pre-trained text embedding as the first layer, which will have three advantages:**\n",
    "\n",
    "**1. we don't have to worry about text preprocessing**  \n",
    "**2. we can benefit from transfer learning**  \n",
    "**3. the embedding has a fixed size, so it's simpler to process**  \n",
    "\n",
    "**We'll use a pre-trained text embedding model from [TensorFlow Hub](https://www.tensorflow.org/hub) called [google/tf2-preview/gnews-swivel-20dim/1](https://tfhub.dev/google/tf2-preview/gnews-swivel-20dim/1).**  \n",
    "\n",
    "**Let's first create a Keras layer that uses a TensorFlow Hub model to embed the sentences, and try it out on a couple of input examples. Note that no matter the length of the input text, the output shape of the embeddings is: (num_examples, embedding_dimension)**"
   ]
  },
  {
   "cell_type": "code",
   "execution_count": 19,
   "metadata": {},
   "outputs": [
    {
     "data": {
      "text/plain": [
       "<tf.Tensor: shape=(3, 20), dtype=float32, numpy=\n",
       "array([[ 0.28795514, -0.33089155,  0.4694359 ,  0.25962555, -0.3899307 ,\n",
       "         0.519044  ,  0.02347763,  0.20918302,  0.40586933,  0.15561381,\n",
       "        -0.5326305 ,  0.4416759 , -0.209601  , -0.14638771,  0.4305011 ,\n",
       "        -0.34971237, -0.6025258 , -0.24149889, -0.37806344,  0.29764125],\n",
       "       [ 0.3428518 , -1.2258928 ,  1.1127486 , -0.09706269, -1.6098815 ,\n",
       "        -2.0234637 , -1.4268725 ,  0.89119524,  1.8129581 ,  0.74163836,\n",
       "        -1.5837238 ,  0.5597518 ,  0.7064632 , -0.06522568, -1.801542  ,\n",
       "         0.95429164,  1.0367122 , -0.57998896, -1.228939  , -0.07077654],\n",
       "       [-0.7684545 , -0.3240194 , -0.4590403 , -0.78238493, -0.6346923 ,\n",
       "         0.84253484,  0.3933478 ,  0.3958523 , -0.12424278,  0.36349782,\n",
       "        -0.243992  , -0.09113774,  0.36228633, -0.17937404,  0.5450773 ,\n",
       "         0.85830885,  0.44275758, -0.47713774, -0.7886732 ,  0.7035698 ]],\n",
       "      dtype=float32)>"
      ]
     },
     "execution_count": 19,
     "metadata": {},
     "output_type": "execute_result"
    }
   ],
   "source": [
    "embedding = \"https://tfhub.dev/google/tf2-preview/gnews-swivel-20dim/1\"\n",
    "hub_layer = hub.KerasLayer(embedding, input_shape=[], \n",
    "                           dtype=tf.string, trainable=True)\n",
    "hub_layer(data['text'][:3])"
   ]
  },
  {
   "cell_type": "markdown",
   "metadata": {},
   "source": [
    "### 2.3 Full Model\n",
    "\n",
    "#### 2.3.1 Model Framework\n",
    "**the layers are stacked sequentially to build the classifier** . \n",
    "\n",
    "**1. the first layer is a TensorFlow Hub layer. This layer uses a pre-trained Saved Model to map a sentence into its embedding vector. The pre-trained text embedding model that we are using (google/tf2-preview/gnews-swivel-20dim/1) splits the sentence into tokens, embeds each token and then combines the embedding. The resulting dimensions are: (num_examples, embedding_dimension).**\n",
    "\n",
    "**2. this fixed-length output vector is piped through a fully-connected (Dense) layer with 16 hidden units.**\n",
    "\n",
    "**3. the last layer is densely connected with a single output node. Using the sigmoid activation function, this value is a float between 0 and 1, representing a probability, or confidence level.**"
   ]
  },
  {
   "cell_type": "code",
   "execution_count": 20,
   "metadata": {},
   "outputs": [
    {
     "name": "stdout",
     "output_type": "stream",
     "text": [
      "Model: \"sequential\"\n",
      "_________________________________________________________________\n",
      "Layer (type)                 Output Shape              Param #   \n",
      "=================================================================\n",
      "keras_layer (KerasLayer)     (None, 20)                400020    \n",
      "_________________________________________________________________\n",
      "dense (Dense)                (None, 16)                336       \n",
      "_________________________________________________________________\n",
      "dense_1 (Dense)              (None, 1)                 17        \n",
      "=================================================================\n",
      "Total params: 400,373\n",
      "Trainable params: 400,373\n",
      "Non-trainable params: 0\n",
      "_________________________________________________________________\n"
     ]
    }
   ],
   "source": [
    "model = tf.keras.Sequential()\n",
    "model.add(hub_layer)\n",
    "model.add(tf.keras.layers.Dense(16, activation='relu'))\n",
    "model.add(tf.keras.layers.Dense(1))\n",
    "\n",
    "model.summary()"
   ]
  },
  {
   "cell_type": "markdown",
   "metadata": {},
   "source": [
    "#### 2.3.1 Compile the Model\n",
    "**define learning paramaters (exactly which algorithm will the mode use to learn?)**"
   ]
  },
  {
   "cell_type": "code",
   "execution_count": 21,
   "metadata": {},
   "outputs": [],
   "source": [
    "model.compile(optimizer='adam',\n",
    "              loss=tf.keras.losses.BinaryCrossentropy(from_logits=True),\n",
    "              metrics=['accuracy'])"
   ]
  },
  {
   "cell_type": "markdown",
   "metadata": {},
   "source": [
    "### 2.3.1 Training"
   ]
  },
  {
   "cell_type": "code",
   "execution_count": 22,
   "metadata": {},
   "outputs": [
    {
     "name": "stdout",
     "output_type": "stream",
     "text": [
      "Train on 8145 samples, validate on 2715 samples\n",
      "Epoch 1/30\n",
      "8032/8145 [============================>.] - ETA: 0s - loss: 0.6049 - accuracy: 0.6846\n",
      "Epoch 00001: saving model to /Users/benjamin.jones/Desktop/Disaster Tweets/Checkpoints/cp-0001\n",
      "8145/8145 [==============================] - 1s 150us/sample - loss: 0.6046 - accuracy: 0.6853 - val_loss: 0.5247 - val_accuracy: 0.7466\n",
      "Epoch 2/30\n",
      "7488/8145 [==========================>...] - ETA: 0s - loss: 0.4980 - accuracy: 0.7666\n",
      "Epoch 00002: saving model to /Users/benjamin.jones/Desktop/Disaster Tweets/Checkpoints/cp-0002\n",
      "8145/8145 [==============================] - 1s 92us/sample - loss: 0.4958 - accuracy: 0.7681 - val_loss: 0.4961 - val_accuracy: 0.7683\n",
      "Epoch 3/30\n",
      "8064/8145 [============================>.] - ETA: 0s - loss: 0.4529 - accuracy: 0.7953\n",
      "Epoch 00003: saving model to /Users/benjamin.jones/Desktop/Disaster Tweets/Checkpoints/cp-0003\n",
      "8145/8145 [==============================] - 1s 94us/sample - loss: 0.4542 - accuracy: 0.7946 - val_loss: 0.4759 - val_accuracy: 0.7768\n",
      "Epoch 4/30\n",
      "7648/8145 [===========================>..] - ETA: 0s - loss: 0.4135 - accuracy: 0.8145\n",
      "Epoch 00004: saving model to /Users/benjamin.jones/Desktop/Disaster Tweets/Checkpoints/cp-0004\n",
      "8145/8145 [==============================] - 1s 91us/sample - loss: 0.4133 - accuracy: 0.8152 - val_loss: 0.4633 - val_accuracy: 0.7816\n",
      "Epoch 5/30\n",
      "7616/8145 [===========================>..] - ETA: 0s - loss: 0.3687 - accuracy: 0.8374\n",
      "Epoch 00005: saving model to /Users/benjamin.jones/Desktop/Disaster Tweets/Checkpoints/cp-0005\n",
      "8145/8145 [==============================] - 1s 90us/sample - loss: 0.3701 - accuracy: 0.8367 - val_loss: 0.4583 - val_accuracy: 0.7901\n",
      "Epoch 6/30\n",
      "8128/8145 [============================>.] - ETA: 0s - loss: 0.3245 - accuracy: 0.8601\n",
      "Epoch 00006: saving model to /Users/benjamin.jones/Desktop/Disaster Tweets/Checkpoints/cp-0006\n",
      "8145/8145 [==============================] - 1s 93us/sample - loss: 0.3242 - accuracy: 0.8604 - val_loss: 0.4655 - val_accuracy: 0.7919\n",
      "Epoch 7/30\n",
      "7872/8145 [===========================>..] - ETA: 0s - loss: 0.2792 - accuracy: 0.8816\n",
      "Epoch 00007: saving model to /Users/benjamin.jones/Desktop/Disaster Tweets/Checkpoints/cp-0007\n",
      "8145/8145 [==============================] - 1s 95us/sample - loss: 0.2795 - accuracy: 0.8814 - val_loss: 0.4854 - val_accuracy: 0.7901\n",
      "Epoch 8/30\n",
      "7808/8145 [===========================>..] - ETA: 0s - loss: 0.2403 - accuracy: 0.9018\n",
      "Epoch 00008: saving model to /Users/benjamin.jones/Desktop/Disaster Tweets/Checkpoints/cp-0008\n",
      "8145/8145 [==============================] - 1s 95us/sample - loss: 0.2406 - accuracy: 0.9013 - val_loss: 0.5087 - val_accuracy: 0.7864\n",
      "Epoch 9/30\n",
      "8128/8145 [============================>.] - ETA: 0s - loss: 0.2060 - accuracy: 0.9146\n",
      "Epoch 00009: saving model to /Users/benjamin.jones/Desktop/Disaster Tweets/Checkpoints/cp-0009\n",
      "8145/8145 [==============================] - 1s 92us/sample - loss: 0.2062 - accuracy: 0.9144 - val_loss: 0.5499 - val_accuracy: 0.7849\n",
      "Epoch 10/30\n",
      "8096/8145 [============================>.] - ETA: 0s - loss: 0.1787 - accuracy: 0.9264\n",
      "Epoch 00010: saving model to /Users/benjamin.jones/Desktop/Disaster Tweets/Checkpoints/cp-0010\n",
      "8145/8145 [==============================] - 1s 93us/sample - loss: 0.1789 - accuracy: 0.9263 - val_loss: 0.5783 - val_accuracy: 0.7860\n",
      "Epoch 11/30\n",
      "7808/8145 [===========================>..] - ETA: 0s - loss: 0.1568 - accuracy: 0.9380\n",
      "Epoch 00011: saving model to /Users/benjamin.jones/Desktop/Disaster Tweets/Checkpoints/cp-0011\n",
      "8145/8145 [==============================] - 1s 95us/sample - loss: 0.1559 - accuracy: 0.9385 - val_loss: 0.6161 - val_accuracy: 0.7856\n",
      "Epoch 12/30\n",
      "7936/8145 [============================>.] - ETA: 0s - loss: 0.1382 - accuracy: 0.9462\n",
      "Epoch 00012: saving model to /Users/benjamin.jones/Desktop/Disaster Tweets/Checkpoints/cp-0012\n",
      "8145/8145 [==============================] - 1s 94us/sample - loss: 0.1384 - accuracy: 0.9461 - val_loss: 0.6674 - val_accuracy: 0.7764\n",
      "Epoch 13/30\n",
      "7776/8145 [===========================>..] - ETA: 0s - loss: 0.1245 - accuracy: 0.9527\n",
      "Epoch 00013: saving model to /Users/benjamin.jones/Desktop/Disaster Tweets/Checkpoints/cp-0013\n",
      "8145/8145 [==============================] - 1s 95us/sample - loss: 0.1247 - accuracy: 0.9529 - val_loss: 0.6971 - val_accuracy: 0.7794\n",
      "Epoch 14/30\n",
      "8096/8145 [============================>.] - ETA: 0s - loss: 0.1114 - accuracy: 0.9581\n",
      "Epoch 00014: saving model to /Users/benjamin.jones/Desktop/Disaster Tweets/Checkpoints/cp-0014\n",
      "8145/8145 [==============================] - 1s 92us/sample - loss: 0.1114 - accuracy: 0.9581 - val_loss: 0.7438 - val_accuracy: 0.7772\n",
      "Epoch 15/30\n",
      "7840/8145 [===========================>..] - ETA: 0s - loss: 0.1014 - accuracy: 0.9602\n",
      "Epoch 00015: saving model to /Users/benjamin.jones/Desktop/Disaster Tweets/Checkpoints/cp-0015\n",
      "8145/8145 [==============================] - 1s 96us/sample - loss: 0.1019 - accuracy: 0.9601 - val_loss: 0.7865 - val_accuracy: 0.7709\n",
      "Epoch 16/30\n",
      "8064/8145 [============================>.] - ETA: 0s - loss: 0.0961 - accuracy: 0.9640\n",
      "Epoch 00016: saving model to /Users/benjamin.jones/Desktop/Disaster Tweets/Checkpoints/cp-0016\n",
      "8145/8145 [==============================] - 1s 94us/sample - loss: 0.0963 - accuracy: 0.9638 - val_loss: 0.8357 - val_accuracy: 0.7691\n",
      "Epoch 17/30\n",
      "7904/8145 [============================>.] - ETA: 0s - loss: 0.0885 - accuracy: 0.9647\n",
      "Epoch 00017: saving model to /Users/benjamin.jones/Desktop/Disaster Tweets/Checkpoints/cp-0017\n",
      "8145/8145 [==============================] - 1s 94us/sample - loss: 0.0891 - accuracy: 0.9646 - val_loss: 0.8644 - val_accuracy: 0.7709\n",
      "Epoch 18/30\n",
      "8000/8145 [============================>.] - ETA: 0s - loss: 0.0833 - accuracy: 0.9690\n",
      "Epoch 00018: saving model to /Users/benjamin.jones/Desktop/Disaster Tweets/Checkpoints/cp-0018\n",
      "8145/8145 [==============================] - 1s 94us/sample - loss: 0.0839 - accuracy: 0.9688 - val_loss: 0.9090 - val_accuracy: 0.7650\n",
      "Epoch 19/30\n",
      "7936/8145 [============================>.] - ETA: 0s - loss: 0.0794 - accuracy: 0.9686\n",
      "Epoch 00019: saving model to /Users/benjamin.jones/Desktop/Disaster Tweets/Checkpoints/cp-0019\n",
      "8145/8145 [==============================] - 1s 94us/sample - loss: 0.0803 - accuracy: 0.9680 - val_loss: 0.9378 - val_accuracy: 0.7720\n",
      "Epoch 20/30\n",
      "7872/8145 [===========================>..] - ETA: 0s - loss: 0.0747 - accuracy: 0.9696\n",
      "Epoch 00020: saving model to /Users/benjamin.jones/Desktop/Disaster Tweets/Checkpoints/cp-0020\n",
      "8145/8145 [==============================] - 1s 95us/sample - loss: 0.0754 - accuracy: 0.9694 - val_loss: 0.9777 - val_accuracy: 0.7654\n",
      "Epoch 21/30\n",
      "8128/8145 [============================>.] - ETA: 0s - loss: 0.0735 - accuracy: 0.9707\n",
      "Epoch 00021: saving model to /Users/benjamin.jones/Desktop/Disaster Tweets/Checkpoints/cp-0021\n",
      "8145/8145 [==============================] - 1s 92us/sample - loss: 0.0736 - accuracy: 0.9707 - val_loss: 1.0018 - val_accuracy: 0.7705\n",
      "Epoch 22/30\n",
      "7520/8145 [==========================>...] - ETA: 0s - loss: 0.0692 - accuracy: 0.9733\n",
      "Epoch 00022: saving model to /Users/benjamin.jones/Desktop/Disaster Tweets/Checkpoints/cp-0022\n",
      "8145/8145 [==============================] - 1s 92us/sample - loss: 0.0711 - accuracy: 0.9725 - val_loss: 1.0413 - val_accuracy: 0.7635\n",
      "Epoch 23/30\n",
      "7584/8145 [==========================>...] - ETA: 0s - loss: 0.0690 - accuracy: 0.9701\n",
      "Epoch 00023: saving model to /Users/benjamin.jones/Desktop/Disaster Tweets/Checkpoints/cp-0023\n",
      "8145/8145 [==============================] - 1s 90us/sample - loss: 0.0696 - accuracy: 0.9707 - val_loss: 1.0695 - val_accuracy: 0.7646\n",
      "Epoch 24/30\n",
      "7648/8145 [===========================>..] - ETA: 0s - loss: 0.0667 - accuracy: 0.9706\n",
      "Epoch 00024: saving model to /Users/benjamin.jones/Desktop/Disaster Tweets/Checkpoints/cp-0024\n",
      "8145/8145 [==============================] - 1s 91us/sample - loss: 0.0663 - accuracy: 0.9708 - val_loss: 1.1106 - val_accuracy: 0.7580\n",
      "Epoch 25/30\n",
      "7616/8145 [===========================>..] - ETA: 0s - loss: 0.0655 - accuracy: 0.9714\n",
      "Epoch 00025: saving model to /Users/benjamin.jones/Desktop/Disaster Tweets/Checkpoints/cp-0025\n",
      "8145/8145 [==============================] - 1s 91us/sample - loss: 0.0642 - accuracy: 0.9726 - val_loss: 1.1336 - val_accuracy: 0.7657\n"
     ]
    },
    {
     "name": "stdout",
     "output_type": "stream",
     "text": [
      "Epoch 26/30\n",
      "7648/8145 [===========================>..] - ETA: 0s - loss: 0.0633 - accuracy: 0.9727\n",
      "Epoch 00026: saving model to /Users/benjamin.jones/Desktop/Disaster Tweets/Checkpoints/cp-0026\n",
      "8145/8145 [==============================] - 1s 91us/sample - loss: 0.0640 - accuracy: 0.9725 - val_loss: 1.1688 - val_accuracy: 0.7543\n",
      "Epoch 27/30\n",
      "7712/8145 [===========================>..] - ETA: 0s - loss: 0.0599 - accuracy: 0.9735\n",
      "Epoch 00027: saving model to /Users/benjamin.jones/Desktop/Disaster Tweets/Checkpoints/cp-0027\n",
      "8145/8145 [==============================] - 1s 90us/sample - loss: 0.0618 - accuracy: 0.9726 - val_loss: 1.1881 - val_accuracy: 0.7565\n",
      "Epoch 28/30\n",
      "7584/8145 [==========================>...] - ETA: 0s - loss: 0.0616 - accuracy: 0.9730\n",
      "Epoch 00028: saving model to /Users/benjamin.jones/Desktop/Disaster Tweets/Checkpoints/cp-0028\n",
      "8145/8145 [==============================] - 1s 91us/sample - loss: 0.0619 - accuracy: 0.9729 - val_loss: 1.2228 - val_accuracy: 0.7624\n",
      "Epoch 29/30\n",
      "8128/8145 [============================>.] - ETA: 0s - loss: 0.0592 - accuracy: 0.9748\n",
      "Epoch 00029: saving model to /Users/benjamin.jones/Desktop/Disaster Tweets/Checkpoints/cp-0029\n",
      "8145/8145 [==============================] - 1s 92us/sample - loss: 0.0593 - accuracy: 0.9747 - val_loss: 1.2647 - val_accuracy: 0.7484\n",
      "Epoch 30/30\n",
      "8128/8145 [============================>.] - ETA: 0s - loss: 0.0588 - accuracy: 0.9735\n",
      "Epoch 00030: saving model to /Users/benjamin.jones/Desktop/Disaster Tweets/Checkpoints/cp-0030\n",
      "8145/8145 [==============================] - 1s 93us/sample - loss: 0.0590 - accuracy: 0.9732 - val_loss: 1.2825 - val_accuracy: 0.7551\n"
     ]
    }
   ],
   "source": [
    "#begin or resume training\n",
    "history = model.fit(x=x_train,\n",
    "                    y=y_train,\n",
    "                    batch_size=32,\n",
    "                    epochs=30,\n",
    "                    validation_data=(x_val, y_val),\n",
    "                    shuffle=True,\n",
    "                    verbose=1,\n",
    "                   callbacks=[cp_callback])"
   ]
  },
  {
   "cell_type": "markdown",
   "metadata": {},
   "source": [
    "## 3 Evaluation\n",
    "\n",
    "**Clearly this model is overfitting.**"
   ]
  },
  {
   "cell_type": "code",
   "execution_count": 23,
   "metadata": {},
   "outputs": [
    {
     "name": "stdout",
     "output_type": "stream",
     "text": [
      "2715/2715 [==============================] - 0s 35us/sample - loss: 1.2825 - accuracy: 0.7551\n"
     ]
    },
    {
     "data": {
      "text/plain": [
       "[1.2824509734826413, 0.7550644]"
      ]
     },
     "execution_count": 23,
     "metadata": {},
     "output_type": "execute_result"
    }
   ],
   "source": [
    "model.evaluate(x_val, y_val, verbose=1) #[validation loss, validation accuracy]"
   ]
  },
  {
   "cell_type": "code",
   "execution_count": 24,
   "metadata": {},
   "outputs": [
    {
     "data": {
      "image/png": "[encoded data removed]",
      "text/plain": [
       "<Figure size 576x576 with 2 Axes>"
      ]
     },
     "metadata": {
      "needs_background": "light"
     },
     "output_type": "display_data"
    }
   ],
   "source": [
    "acc = history.history['accuracy']\n",
    "val_acc = history.history['val_accuracy']\n",
    "\n",
    "loss = history.history['loss']\n",
    "val_loss = history.history['val_loss']\n",
    "\n",
    "epochs_range = range(30)\n",
    "\n",
    "#plot aesthetics\n",
    "color_train = '#5DB9D2'\n",
    "color_val = '#F6B956'\n",
    "\n",
    "plt.figure(figsize=(8, 8))\n",
    "plt.subplot(1, 2, 1)\n",
    "plt.plot(epochs_range, acc, label='Training Accuracy', color=color_train)\n",
    "plt.plot(epochs_range, val_acc, label='Validation Accuracy', color=color_val)\n",
    "plt.legend(loc='lower right')\n",
    "plt.title('Training and Validation Accuracy')\n",
    "plt.ylabel('Accuracy')\n",
    "plt.xlabel('Epochs')\n",
    "\n",
    "plt.subplot(1, 2, 2)\n",
    "plt.plot(epochs_range, loss, label='Training Loss', color=color_train)\n",
    "plt.plot(epochs_range, val_loss, label='Validation Loss', color=color_val)\n",
    "plt.legend(loc='upper right')\n",
    "plt.title('Training and Validation Loss')\n",
    "plt.ylabel('Binary Cross Entropy')\n",
    "plt.xlabel('Epochs')\n",
    "plt.show()"
   ]
  },
  {
   "cell_type": "markdown",
   "metadata": {},
   "source": [
    "## 4 Adjustments\n",
    "\n",
    "**regularizers, dropout, increased batch size**"
   ]
  },
  {
   "cell_type": "code",
   "execution_count": 26,
   "metadata": {},
   "outputs": [
    {
     "name": "stdout",
     "output_type": "stream",
     "text": [
      "Model: \"sequential_2\"\n",
      "_________________________________________________________________\n",
      "Layer (type)                 Output Shape              Param #   \n",
      "=================================================================\n",
      "keras_layer (KerasLayer)     (None, 20)                400020    \n",
      "_________________________________________________________________\n",
      "dense_4 (Dense)              (None, 16)                336       \n",
      "_________________________________________________________________\n",
      "dropout_1 (Dropout)          (None, 16)                0         \n",
      "_________________________________________________________________\n",
      "dense_5 (Dense)              (None, 1)                 17        \n",
      "=================================================================\n",
      "Total params: 400,373\n",
      "Trainable params: 400,373\n",
      "Non-trainable params: 0\n",
      "_________________________________________________________________\n",
      "Train on 8145 samples, validate on 2715 samples\n",
      "Epoch 1/30\n",
      "5200/8145 [==================>...........] - ETA: 0s - loss: 0.8523 - accuracy: 0.5158\n",
      "Epoch 00001: saving model to /Users/benjamin.jones/Desktop/Disaster Tweets/Checkpoints 2/cp-0001\n",
      "8145/8145 [==============================] - 1s 73us/sample - loss: 0.8286 - accuracy: 0.5297 - val_loss: 0.6832 - val_accuracy: 0.6125\n",
      "Epoch 2/30\n",
      "4550/8145 [===============>..............] - ETA: 0s - loss: 0.7437 - accuracy: 0.5844\n",
      "Epoch 00002: saving model to /Users/benjamin.jones/Desktop/Disaster Tweets/Checkpoints 2/cp-0002\n",
      "8145/8145 [==============================] - 0s 19us/sample - loss: 0.7271 - accuracy: 0.5885 - val_loss: 0.6171 - val_accuracy: 0.6486\n",
      "Epoch 3/30\n",
      "5200/8145 [==================>...........] - ETA: 0s - loss: 0.6576 - accuracy: 0.6296\n",
      "Epoch 00003: saving model to /Users/benjamin.jones/Desktop/Disaster Tweets/Checkpoints 2/cp-0003\n",
      "8145/8145 [==============================] - 0s 19us/sample - loss: 0.6465 - accuracy: 0.6381 - val_loss: 0.5804 - val_accuracy: 0.6740\n",
      "Epoch 4/30\n",
      "5200/8145 [==================>...........] - ETA: 0s - loss: 0.6148 - accuracy: 0.6631\n",
      "Epoch 00004: saving model to /Users/benjamin.jones/Desktop/Disaster Tweets/Checkpoints 2/cp-0004\n",
      "8145/8145 [==============================] - 0s 18us/sample - loss: 0.6000 - accuracy: 0.6699 - val_loss: 0.5561 - val_accuracy: 0.7006\n",
      "Epoch 5/30\n",
      "5200/8145 [==================>...........] - ETA: 0s - loss: 0.5868 - accuracy: 0.6810\n",
      "Epoch 00005: saving model to /Users/benjamin.jones/Desktop/Disaster Tweets/Checkpoints 2/cp-0005\n",
      "8145/8145 [==============================] - 0s 18us/sample - loss: 0.5721 - accuracy: 0.6920 - val_loss: 0.5379 - val_accuracy: 0.7271\n",
      "Epoch 6/30\n",
      "4550/8145 [===============>..............] - ETA: 0s - loss: 0.5351 - accuracy: 0.7143\n",
      "Epoch 00006: saving model to /Users/benjamin.jones/Desktop/Disaster Tweets/Checkpoints 2/cp-0006\n",
      "8145/8145 [==============================] - 0s 19us/sample - loss: 0.5361 - accuracy: 0.7143 - val_loss: 0.5239 - val_accuracy: 0.7400\n",
      "Epoch 7/30\n",
      "4550/8145 [===============>..............] - ETA: 0s - loss: 0.5108 - accuracy: 0.7202\n",
      "Epoch 00007: saving model to /Users/benjamin.jones/Desktop/Disaster Tweets/Checkpoints 2/cp-0007\n",
      "8145/8145 [==============================] - 0s 19us/sample - loss: 0.5064 - accuracy: 0.7258 - val_loss: 0.5125 - val_accuracy: 0.7510\n",
      "Epoch 8/30\n",
      "5200/8145 [==================>...........] - ETA: 0s - loss: 0.4847 - accuracy: 0.7465\n",
      "Epoch 00008: saving model to /Users/benjamin.jones/Desktop/Disaster Tweets/Checkpoints 2/cp-0008\n",
      "8145/8145 [==============================] - 0s 18us/sample - loss: 0.4848 - accuracy: 0.7475 - val_loss: 0.5034 - val_accuracy: 0.7565\n",
      "Epoch 9/30\n",
      "5200/8145 [==================>...........] - ETA: 0s - loss: 0.4596 - accuracy: 0.7648\n",
      "Epoch 00009: saving model to /Users/benjamin.jones/Desktop/Disaster Tweets/Checkpoints 2/cp-0009\n",
      "8145/8145 [==============================] - 0s 19us/sample - loss: 0.4547 - accuracy: 0.7678 - val_loss: 0.4959 - val_accuracy: 0.7610\n",
      "Epoch 10/30\n",
      "4550/8145 [===============>..............] - ETA: 0s - loss: 0.4305 - accuracy: 0.7818\n",
      "Epoch 00010: saving model to /Users/benjamin.jones/Desktop/Disaster Tweets/Checkpoints 2/cp-0010\n",
      "8145/8145 [==============================] - 0s 22us/sample - loss: 0.4289 - accuracy: 0.7853 - val_loss: 0.4896 - val_accuracy: 0.7705\n",
      "Epoch 11/30\n",
      "5200/8145 [==================>...........] - ETA: 0s - loss: 0.4204 - accuracy: 0.7885\n",
      "Epoch 00011: saving model to /Users/benjamin.jones/Desktop/Disaster Tweets/Checkpoints 2/cp-0011\n",
      "8145/8145 [==============================] - 0s 19us/sample - loss: 0.4152 - accuracy: 0.7930 - val_loss: 0.4850 - val_accuracy: 0.7735\n",
      "Epoch 12/30\n",
      "5200/8145 [==================>...........] - ETA: 0s - loss: 0.3984 - accuracy: 0.8085\n",
      "Epoch 00012: saving model to /Users/benjamin.jones/Desktop/Disaster Tweets/Checkpoints 2/cp-0012\n",
      "8145/8145 [==============================] - 0s 19us/sample - loss: 0.3895 - accuracy: 0.8147 - val_loss: 0.4819 - val_accuracy: 0.7750\n",
      "Epoch 13/30\n",
      "4550/8145 [===============>..............] - ETA: 0s - loss: 0.3832 - accuracy: 0.8132\n",
      "Epoch 00013: saving model to /Users/benjamin.jones/Desktop/Disaster Tweets/Checkpoints 2/cp-0013\n",
      "8145/8145 [==============================] - 0s 20us/sample - loss: 0.3822 - accuracy: 0.8142 - val_loss: 0.4800 - val_accuracy: 0.7783\n",
      "Epoch 14/30\n",
      "4550/8145 [===============>..............] - ETA: 0s - loss: 0.3699 - accuracy: 0.8281\n",
      "Epoch 00014: saving model to /Users/benjamin.jones/Desktop/Disaster Tweets/Checkpoints 2/cp-0014\n",
      "8145/8145 [==============================] - 0s 21us/sample - loss: 0.3631 - accuracy: 0.8292 - val_loss: 0.4793 - val_accuracy: 0.7805\n",
      "Epoch 15/30\n",
      "5200/8145 [==================>...........] - ETA: 0s - loss: 0.3449 - accuracy: 0.8410\n",
      "Epoch 00015: saving model to /Users/benjamin.jones/Desktop/Disaster Tweets/Checkpoints 2/cp-0015\n",
      "8145/8145 [==============================] - 0s 20us/sample - loss: 0.3462 - accuracy: 0.8403 - val_loss: 0.4796 - val_accuracy: 0.7823\n",
      "Epoch 16/30\n",
      "5200/8145 [==================>...........] - ETA: 0s - loss: 0.3303 - accuracy: 0.8454\n",
      "Epoch 00016: saving model to /Users/benjamin.jones/Desktop/Disaster Tweets/Checkpoints 2/cp-0016\n",
      "8145/8145 [==============================] - 0s 19us/sample - loss: 0.3319 - accuracy: 0.8444 - val_loss: 0.4811 - val_accuracy: 0.7823\n",
      "Epoch 17/30\n",
      "4550/8145 [===============>..............] - ETA: 0s - loss: 0.3186 - accuracy: 0.8552\n",
      "Epoch 00017: saving model to /Users/benjamin.jones/Desktop/Disaster Tweets/Checkpoints 2/cp-0017\n",
      "8145/8145 [==============================] - 0s 20us/sample - loss: 0.3179 - accuracy: 0.8541 - val_loss: 0.4834 - val_accuracy: 0.7842\n",
      "Epoch 18/30\n",
      "5200/8145 [==================>...........] - ETA: 0s - loss: 0.3071 - accuracy: 0.8644\n",
      "Epoch 00018: saving model to /Users/benjamin.jones/Desktop/Disaster Tweets/Checkpoints 2/cp-0018\n",
      "8145/8145 [==============================] - 0s 19us/sample - loss: 0.3052 - accuracy: 0.8653 - val_loss: 0.4868 - val_accuracy: 0.7842\n",
      "Epoch 19/30\n",
      "5200/8145 [==================>...........] - ETA: 0s - loss: 0.2860 - accuracy: 0.8740\n",
      "Epoch 00019: saving model to /Users/benjamin.jones/Desktop/Disaster Tweets/Checkpoints 2/cp-0019\n",
      "8145/8145 [==============================] - 0s 19us/sample - loss: 0.2881 - accuracy: 0.8738 - val_loss: 0.4914 - val_accuracy: 0.7831\n",
      "Epoch 20/30\n",
      "5200/8145 [==================>...........] - ETA: 0s - loss: 0.2838 - accuracy: 0.8685\n",
      "Epoch 00020: saving model to /Users/benjamin.jones/Desktop/Disaster Tweets/Checkpoints 2/cp-0020\n",
      "8145/8145 [==============================] - 0s 18us/sample - loss: 0.2811 - accuracy: 0.8713 - val_loss: 0.4965 - val_accuracy: 0.7853\n",
      "Epoch 21/30\n",
      "5200/8145 [==================>...........] - ETA: 0s - loss: 0.2804 - accuracy: 0.8773\n",
      "Epoch 00021: saving model to /Users/benjamin.jones/Desktop/Disaster Tweets/Checkpoints 2/cp-0021\n",
      "8145/8145 [==============================] - 0s 19us/sample - loss: 0.2754 - accuracy: 0.8802 - val_loss: 0.5024 - val_accuracy: 0.7842\n",
      "Epoch 22/30\n",
      "5200/8145 [==================>...........] - ETA: 0s - loss: 0.2587 - accuracy: 0.8871\n",
      "Epoch 00022: saving model to /Users/benjamin.jones/Desktop/Disaster Tweets/Checkpoints 2/cp-0022\n",
      "8145/8145 [==============================] - 0s 18us/sample - loss: 0.2557 - accuracy: 0.8900 - val_loss: 0.5090 - val_accuracy: 0.7812\n"
     ]
    },
    {
     "name": "stdout",
     "output_type": "stream",
     "text": [
      "Epoch 23/30\n",
      "5200/8145 [==================>...........] - ETA: 0s - loss: 0.2497 - accuracy: 0.8948\n",
      "Epoch 00023: saving model to /Users/benjamin.jones/Desktop/Disaster Tweets/Checkpoints 2/cp-0023\n",
      "8145/8145 [==============================] - 0s 19us/sample - loss: 0.2552 - accuracy: 0.8894 - val_loss: 0.5165 - val_accuracy: 0.7827\n",
      "Epoch 24/30\n",
      "5200/8145 [==================>...........] - ETA: 0s - loss: 0.2436 - accuracy: 0.8921\n",
      "Epoch 00024: saving model to /Users/benjamin.jones/Desktop/Disaster Tweets/Checkpoints 2/cp-0024\n",
      "8145/8145 [==============================] - 0s 18us/sample - loss: 0.2422 - accuracy: 0.8956 - val_loss: 0.5233 - val_accuracy: 0.7849\n",
      "Epoch 25/30\n",
      "5200/8145 [==================>...........] - ETA: 0s - loss: 0.2336 - accuracy: 0.8994\n",
      "Epoch 00025: saving model to /Users/benjamin.jones/Desktop/Disaster Tweets/Checkpoints 2/cp-0025\n",
      "8145/8145 [==============================] - 0s 18us/sample - loss: 0.2345 - accuracy: 0.8993 - val_loss: 0.5309 - val_accuracy: 0.7845\n",
      "Epoch 26/30\n",
      "5200/8145 [==================>...........] - ETA: 0s - loss: 0.2302 - accuracy: 0.9033\n",
      "Epoch 00026: saving model to /Users/benjamin.jones/Desktop/Disaster Tweets/Checkpoints 2/cp-0026\n",
      "8145/8145 [==============================] - 0s 18us/sample - loss: 0.2260 - accuracy: 0.9031 - val_loss: 0.5398 - val_accuracy: 0.7834\n",
      "Epoch 27/30\n",
      "5200/8145 [==================>...........] - ETA: 0s - loss: 0.2255 - accuracy: 0.9090\n",
      "Epoch 00027: saving model to /Users/benjamin.jones/Desktop/Disaster Tweets/Checkpoints 2/cp-0027\n",
      "8145/8145 [==============================] - 0s 18us/sample - loss: 0.2213 - accuracy: 0.9103 - val_loss: 0.5491 - val_accuracy: 0.7838\n",
      "Epoch 28/30\n",
      "5200/8145 [==================>...........] - ETA: 0s - loss: 0.2076 - accuracy: 0.9156\n",
      "Epoch 00028: saving model to /Users/benjamin.jones/Desktop/Disaster Tweets/Checkpoints 2/cp-0028\n",
      "8145/8145 [==============================] - 0s 18us/sample - loss: 0.2085 - accuracy: 0.9118 - val_loss: 0.5590 - val_accuracy: 0.7838\n",
      "Epoch 29/30\n",
      "5200/8145 [==================>...........] - ETA: 0s - loss: 0.2032 - accuracy: 0.9135\n",
      "Epoch 00029: saving model to /Users/benjamin.jones/Desktop/Disaster Tweets/Checkpoints 2/cp-0029\n",
      "8145/8145 [==============================] - 0s 18us/sample - loss: 0.2047 - accuracy: 0.9147 - val_loss: 0.5685 - val_accuracy: 0.7831\n",
      "Epoch 30/30\n",
      "5850/8145 [====================>.........] - ETA: 0s - loss: 0.1988 - accuracy: 0.9147\n",
      "Epoch 00030: saving model to /Users/benjamin.jones/Desktop/Disaster Tweets/Checkpoints 2/cp-0030\n",
      "8145/8145 [==============================] - 0s 18us/sample - loss: 0.1985 - accuracy: 0.9148 - val_loss: 0.5791 - val_accuracy: 0.7823\n"
     ]
    }
   ],
   "source": [
    "from tensorflow.keras import regularizers\n",
    "#save the model at this location after every epoch\n",
    "checkpoint_path2 = '/Users/benjamin.jones/Desktop/Disaster Tweets/Checkpoints 2/cp-{epoch:04d}' #unique name for each saved checkpoint (after every 1 epoch)\n",
    "checkpoint_dir2 = os.path.dirname(checkpoint_path2)\n",
    "cp_callback2 = tf.keras.callbacks.ModelCheckpoint(checkpoint_path2,\n",
    "                                                save_weights_only=True,\n",
    "                                                verbose=1,\n",
    "                                                save_freq='epoch' #save after every epoch\n",
    "                                                )\n",
    "\n",
    "#early_stop = tf.keras.callbacks.EarlyStopping(monitor='val_loss', patience=5) optional\n",
    "\n",
    "#sgd = optimizers.SGD(lr=0.01, decay=1e-6, momentum=0.9, nesterov=True) optional for different optimizer\n",
    "model2 = tf.keras.Sequential()\n",
    "model2.add(hub_layer)\n",
    "model2.add(tf.keras.layers.Dense(16, activation='relu',kernel_regularizer=regularizers.l2(0.0001)))\n",
    "model2.add(tf.keras.layers.Dropout(0.5))\n",
    "model2.add(tf.keras.layers.Dense(1))\n",
    "model2.summary()\n",
    "\n",
    "model2.compile(optimizer='adam',\n",
    "              loss=tf.keras.losses.BinaryCrossentropy(from_logits=True),\n",
    "              metrics=['accuracy'])\n",
    "\n",
    "#begin or resume training\n",
    "history2 = model2.fit(x=x_train,\n",
    "                    y=y_train,\n",
    "                    batch_size=650,\n",
    "                    epochs=30,\n",
    "                    validation_data=(x_val, y_val),\n",
    "                    shuffle=True,\n",
    "                    verbose=1,\n",
    "                   callbacks=[cp_callback2])"
   ]
  },
  {
   "cell_type": "markdown",
   "metadata": {},
   "source": [
    "**Comparison of Model 1 and Model 2**"
   ]
  },
  {
   "cell_type": "code",
   "execution_count": 28,
   "metadata": {},
   "outputs": [
    {
     "data": {
      "image/png": "[encoded data removed]",
      "text/plain": [
       "<Figure size 576x576 with 2 Axes>"
      ]
     },
     "metadata": {
      "needs_background": "light"
     },
     "output_type": "display_data"
    }
   ],
   "source": [
    "acc2 = history2.history['accuracy']\n",
    "val_acc2 = history2.history['val_accuracy']\n",
    "\n",
    "loss2 = history2.history['loss']\n",
    "val_loss2 = history2.history['val_loss']\n",
    "\n",
    "plt.figure(figsize=(8, 8))\n",
    "plt.subplot(1, 2, 1)\n",
    "plt.plot(epochs_range, acc, label='Model 1 Training Accuracy', color=color_train)\n",
    "plt.plot(epochs_range, val_acc, label='Model 1 Validation Accuracy', color=color_val)\n",
    "plt.plot(epochs_range, acc2, label='Model 2 Training Accuracy', color=color_train, linestyle='dashed')\n",
    "plt.plot(epochs_range, val_acc2, label='Model 2 Validation Accuracy', color=color_val, linestyle='dashed')\n",
    "plt.legend(loc='lower right')\n",
    "plt.title('Training and Validation Accuracy')\n",
    "plt.ylabel('Accuracy')\n",
    "plt.xlabel('Epochs')\n",
    "\n",
    "plt.subplot(1, 2, 2)\n",
    "plt.plot(epochs_range, loss, label='Model 1 Training Loss', color=color_train)\n",
    "plt.plot(epochs_range, val_loss, label='Model 1 Validation Loss', color=color_val)\n",
    "plt.plot(epochs_range, loss2, label='Model 2 Training Loss', color=color_train, linestyle='dashed')\n",
    "plt.plot(epochs_range, val_loss2, label='Model 2 Validation Loss', color=color_val, linestyle='dashed')\n",
    "plt.legend(loc='upper right')\n",
    "plt.title('Training and Validation Loss')\n",
    "plt.ylabel('Binary Cross Entropy')\n",
    "plt.xlabel('Epochs')\n",
    "plt.show()"
   ]
  },
  {
   "cell_type": "code",
   "execution_count": 37,
   "metadata": {},
   "outputs": [
    {
     "name": "stdout",
     "output_type": "stream",
     "text": [
      "2715/2715 [==============================] - 0s 61us/sample - loss: 0.4583 - accuracy: 0.7901\n"
     ]
    },
    {
     "data": {
      "text/plain": [
       "[0.45830289679776676, 0.7900553]"
      ]
     },
     "execution_count": 37,
     "metadata": {},
     "output_type": "execute_result"
    }
   ],
   "source": [
    "model1_best = tf.keras.Sequential()\n",
    "model1_best.add(hub_layer)\n",
    "model1_best.add(tf.keras.layers.Dense(16, activation='relu'))\n",
    "model1_best.add(tf.keras.layers.Dense(1))\n",
    "\n",
    "model1_best.compile(optimizer='adam',\n",
    "              loss=tf.keras.losses.BinaryCrossentropy(from_logits=True),\n",
    "              metrics=['accuracy'])\n",
    "\n",
    "model1_best.load_weights('/Users/benjamin.jones/Desktop/Disaster Tweets/Checkpoints/cp-0005')\n",
    "model1_best.evaluate(x_val, y_val, verbose=1)"
   ]
  },
  {
   "cell_type": "code",
   "execution_count": 38,
   "metadata": {},
   "outputs": [
    {
     "name": "stdout",
     "output_type": "stream",
     "text": [
      "2715/2715 [==============================] - 0s 61us/sample - loss: 0.4774 - accuracy: 0.7805\n"
     ]
    },
    {
     "data": {
      "text/plain": [
       "[0.4774016706214645, 0.78047884]"
      ]
     },
     "execution_count": 38,
     "metadata": {},
     "output_type": "execute_result"
    }
   ],
   "source": [
    "model2_best = tf.keras.Sequential()\n",
    "model2_best.add(hub_layer)\n",
    "model2_best.add(tf.keras.layers.Dense(16, activation='relu'))\n",
    "model2_best.add(tf.keras.layers.Dense(1))\n",
    "\n",
    "model2_best.compile(optimizer='adam',\n",
    "              loss=tf.keras.losses.BinaryCrossentropy(from_logits=True),\n",
    "              metrics=['accuracy'])\n",
    "\n",
    "model2_best.load_weights('/Users/benjamin.jones/Desktop/Disaster Tweets/Checkpoints 2/cp-0014')\n",
    "model2_best.evaluate(x_val, y_val, verbose=1)"
   ]
  },
  {
   "cell_type": "markdown",
   "metadata": {},
   "source": [
    "**Taking the best iteration of model 1 and model 2 and making predictions with net new data**"
   ]
  },
  {
   "cell_type": "code",
   "execution_count": 68,
   "metadata": {},
   "outputs": [
    {
     "data": {
      "text/plain": [
       "array([[0],\n",
       "       [0],\n",
       "       [0],\n",
       "       [1],\n",
       "       [1]], dtype=int32)"
      ]
     },
     "execution_count": 68,
     "metadata": {},
     "output_type": "execute_result"
    }
   ],
   "source": [
    "outside_data = [\"Judge Smails: Spaulding, get dressed you're playing golf.\"\n",
    "                \"Spalding Smails: No I'm not grandpa I'm playing tennis.\"\n",
    "                \"Judge Smails: You're playing golf and you're going to like it.\"\n",
    "                \"Spalding Smails: What about my asthma?\"\n",
    "                \"Judge Smails: I'll give you asthma.\",\n",
    "                \n",
    "                \"that halftime show was a disaster\",\n",
    "                \n",
    "                \"now THIS is podracing!\",\n",
    "                \n",
    "                \"disastrous wildfires in australia continue\",\n",
    "                \n",
    "                \"the 2010 earthquake in haiti resulted in 230,000 dead\"]\n",
    "\n",
    "model1_best.predict_classes(outside_data)"
   ]
  },
  {
   "cell_type": "code",
   "execution_count": 69,
   "metadata": {},
   "outputs": [
    {
     "data": {
      "text/plain": [
       "array([[0],\n",
       "       [0],\n",
       "       [0],\n",
       "       [1],\n",
       "       [1]], dtype=int32)"
      ]
     },
     "execution_count": 69,
     "metadata": {},
     "output_type": "execute_result"
    }
   ],
   "source": [
    "model2_best.predict_classes(outside_data)"
   ]
  },
  {
   "cell_type": "code",
   "execution_count": null,
   "metadata": {},
   "outputs": [],
   "source": []
  }
 ],
 "metadata": {
  "kernelspec": {
   "display_name": "Python 3",
   "language": "python",
   "name": "python3"
  },
  "language_info": {
   "codemirror_mode": {
    "name": "ipython",
    "version": 3
   },
   "file_extension": ".py",
   "mimetype": "text/x-python",
   "name": "python",
   "nbconvert_exporter": "python",
   "pygments_lexer": "ipython3",
   "version": "3.7.4"
  }
 },
 "nbformat": 4,
 "nbformat_minor": 2
}
