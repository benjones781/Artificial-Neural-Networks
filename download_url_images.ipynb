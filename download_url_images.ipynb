{
 "cells": [
  {
   "cell_type": "code",
   "execution_count": 3,
   "metadata": {},
   "outputs": [],
   "source": [
    "sample_url = 'https://preview.redd.it/hhzg3z2ky0s31.gif?format=png8&s=2465ba84c3bbac73d0588a225d819579aaaba4a7'"
   ]
  },
  {
   "cell_type": "code",
   "execution_count": 4,
   "metadata": {},
   "outputs": [
    {
     "data": {
      "text/plain": [
       "('C:/Users/Benjamin/Desktop/File 1/001.jpg',\n",
       " <http.client.HTTPMessage at 0x1af7fe91b88>)"
      ]
     },
     "execution_count": 4,
     "metadata": {},
     "output_type": "execute_result"
    }
   ],
   "source": [
    "import urllib.request\n",
    "save_dir = 'C:/Users/Benjamin/Desktop/File 1/001.jpg'\n",
    "\n",
    "urllib.request.urlretrieve(sample_url, save_dir)"
   ]
  },
  {
   "cell_type": "markdown",
   "metadata": {},
   "source": [
    "### Download Multiple Files with Label as Filename "
   ]
  },
  {
   "cell_type": "code",
   "execution_count": 12,
   "metadata": {},
   "outputs": [],
   "source": [
    "import urllib.request\n",
    "\n",
    "def bulk_download_image(url_list, label_list, directory=''):\n",
    "    success = 0\n",
    "    fail = 0\n",
    "    for i in range(len(url_list)):\n",
    "        try:\n",
    "            urllib.request.urlretrieve(url_list[i], directory + label_list[i] +'.jpg')\n",
    "            success +=1\n",
    "        except:\n",
    "            fail +=1\n",
    "    print(success, \" images successfully downloaded\")\n",
    "    print(fail, \" images failed to download\")"
   ]
  },
  {
   "cell_type": "code",
   "execution_count": 13,
   "metadata": {
    "scrolled": true
   },
   "outputs": [
    {
     "name": "stdout",
     "output_type": "stream",
     "text": [
      "3  images successfully downloaded\n",
      "1  images failed to download\n"
     ]
    }
   ],
   "source": [
    "sample_url_list = [\"https://i.pinimg.com/originals/a4/90/47/a49047d73e5644961b123aa48790d5c8.jpg\",\n",
    "                  \"https://www.sciencemag.org/sites/default/files/styles/article_main_large/public/cc_iStock-478639870_16x9.jpg?itok=1-jMc4Xv\",\n",
    "                  \"https://lithub.com/wp-content/uploads/2019/09/octopus-1.jpg\",\n",
    "                  \"asdfasdfhawefa.afhaweofhawefa\"]\n",
    "sample_label_list = ['jack', 'tree', 'octopus', 'corrupted url']\n",
    "\n",
    "save_dir = 'C:/Users/Benjamin/Desktop/File 1/'\n",
    "#bulk_download_image(sample_url_list, sample_label_list)\n",
    "bulk_download_image(sample_url_list, sample_label_list, save_dir)"
   ]
  },
  {
   "cell_type": "markdown",
   "metadata": {},
   "source": [
    "### Example with Dataframe"
   ]
  },
  {
   "cell_type": "code",
   "execution_count": 10,
   "metadata": {},
   "outputs": [
    {
     "data": {
      "text/html": [
       "<div>\n",
       "<style scoped>\n",
       "    .dataframe tbody tr th:only-of-type {\n",
       "        vertical-align: middle;\n",
       "    }\n",
       "\n",
       "    .dataframe tbody tr th {\n",
       "        vertical-align: top;\n",
       "    }\n",
       "\n",
       "    .dataframe thead th {\n",
       "        text-align: right;\n",
       "    }\n",
       "</style>\n",
       "<table border=\"1\" class=\"dataframe\">\n",
       "  <thead>\n",
       "    <tr style=\"text-align: right;\">\n",
       "      <th></th>\n",
       "      <th>_unit_id</th>\n",
       "      <th>_unit_state</th>\n",
       "      <th>_trusted_judgments</th>\n",
       "      <th>_last_judgment_at</th>\n",
       "      <th>if__people_are_eating_the_cake_please_choose_their_gender_</th>\n",
       "      <th>if__people_are_eating_the_cake_please_choose_their_gender_:confidence</th>\n",
       "      <th>if_people_are_eating_the_cake_please_choose_their_age_</th>\n",
       "      <th>if_people_are_eating_the_cake_please_choose_their_age_:confidence</th>\n",
       "      <th>who_is_eating_or_is_likely_to_eat_the_cake</th>\n",
       "      <th>who_is_eating_or_is_likely_to_eat_the_cake:confidence</th>\n",
       "      <th>image_url</th>\n",
       "    </tr>\n",
       "  </thead>\n",
       "  <tbody>\n",
       "    <tr>\n",
       "      <td>0</td>\n",
       "      <td>685655207</td>\n",
       "      <td>finalized</td>\n",
       "      <td>3</td>\n",
       "      <td>3/6/15 13:33</td>\n",
       "      <td>Female</td>\n",
       "      <td>1.0</td>\n",
       "      <td>Adult/Teenager (13 or older)</td>\n",
       "      <td>1.0</td>\n",
       "      <td>Person</td>\n",
       "      <td>1.0000</td>\n",
       "      <td>http://media1.onsugar.com/files/2012/02/07/2/1...</td>\n",
       "    </tr>\n",
       "    <tr>\n",
       "      <td>1</td>\n",
       "      <td>685655208</td>\n",
       "      <td>finalized</td>\n",
       "      <td>3</td>\n",
       "      <td>3/6/15 13:38</td>\n",
       "      <td>Female</td>\n",
       "      <td>1.0</td>\n",
       "      <td>Adult/Teenager (13 or older)</td>\n",
       "      <td>1.0</td>\n",
       "      <td>Person</td>\n",
       "      <td>1.0000</td>\n",
       "      <td>http://www.skirtcollective.com/wp-content/uplo...</td>\n",
       "    </tr>\n",
       "    <tr>\n",
       "      <td>2</td>\n",
       "      <td>685655209</td>\n",
       "      <td>finalized</td>\n",
       "      <td>3</td>\n",
       "      <td>3/6/15 13:32</td>\n",
       "      <td>Female</td>\n",
       "      <td>1.0</td>\n",
       "      <td>Adult/Teenager (13 or older)</td>\n",
       "      <td>1.0</td>\n",
       "      <td>Person</td>\n",
       "      <td>1.0000</td>\n",
       "      <td>http://www.innovativeinsightsllc.com/wp-conten...</td>\n",
       "    </tr>\n",
       "    <tr>\n",
       "      <td>3</td>\n",
       "      <td>685655210</td>\n",
       "      <td>finalized</td>\n",
       "      <td>3</td>\n",
       "      <td>3/6/15 13:34</td>\n",
       "      <td>Female</td>\n",
       "      <td>1.0</td>\n",
       "      <td>Adult/Teenager (13 or older)</td>\n",
       "      <td>1.0</td>\n",
       "      <td>Person</td>\n",
       "      <td>1.0000</td>\n",
       "      <td>http://www.moreyspiers.com/memoreys/wp-content...</td>\n",
       "    </tr>\n",
       "    <tr>\n",
       "      <td>4</td>\n",
       "      <td>685655211</td>\n",
       "      <td>finalized</td>\n",
       "      <td>3</td>\n",
       "      <td>3/6/15 13:31</td>\n",
       "      <td>Male</td>\n",
       "      <td>1.0</td>\n",
       "      <td>Kid (younger than 13)</td>\n",
       "      <td>1.0</td>\n",
       "      <td>Person</td>\n",
       "      <td>0.6846</td>\n",
       "      <td>https://theplaidguy.files.wordpress.com/2012/0...</td>\n",
       "    </tr>\n",
       "  </tbody>\n",
       "</table>\n",
       "</div>"
      ],
      "text/plain": [
       "    _unit_id _unit_state  _trusted_judgments _last_judgment_at  \\\n",
       "0  685655207   finalized                   3      3/6/15 13:33   \n",
       "1  685655208   finalized                   3      3/6/15 13:38   \n",
       "2  685655209   finalized                   3      3/6/15 13:32   \n",
       "3  685655210   finalized                   3      3/6/15 13:34   \n",
       "4  685655211   finalized                   3      3/6/15 13:31   \n",
       "\n",
       "  if__people_are_eating_the_cake_please_choose_their_gender_  \\\n",
       "0                                             Female           \n",
       "1                                             Female           \n",
       "2                                             Female           \n",
       "3                                             Female           \n",
       "4                                               Male           \n",
       "\n",
       "   if__people_are_eating_the_cake_please_choose_their_gender_:confidence  \\\n",
       "0                                                1.0                       \n",
       "1                                                1.0                       \n",
       "2                                                1.0                       \n",
       "3                                                1.0                       \n",
       "4                                                1.0                       \n",
       "\n",
       "  if_people_are_eating_the_cake_please_choose_their_age_  \\\n",
       "0                       Adult/Teenager (13 or older)       \n",
       "1                       Adult/Teenager (13 or older)       \n",
       "2                       Adult/Teenager (13 or older)       \n",
       "3                       Adult/Teenager (13 or older)       \n",
       "4                              Kid (younger than 13)       \n",
       "\n",
       "   if_people_are_eating_the_cake_please_choose_their_age_:confidence  \\\n",
       "0                                                1.0                   \n",
       "1                                                1.0                   \n",
       "2                                                1.0                   \n",
       "3                                                1.0                   \n",
       "4                                                1.0                   \n",
       "\n",
       "  who_is_eating_or_is_likely_to_eat_the_cake  \\\n",
       "0                                     Person   \n",
       "1                                     Person   \n",
       "2                                     Person   \n",
       "3                                     Person   \n",
       "4                                     Person   \n",
       "\n",
       "   who_is_eating_or_is_likely_to_eat_the_cake:confidence  \\\n",
       "0                                             1.0000       \n",
       "1                                             1.0000       \n",
       "2                                             1.0000       \n",
       "3                                             1.0000       \n",
       "4                                             0.6846       \n",
       "\n",
       "                                           image_url  \n",
       "0  http://media1.onsugar.com/files/2012/02/07/2/1...  \n",
       "1  http://www.skirtcollective.com/wp-content/uplo...  \n",
       "2  http://www.innovativeinsightsllc.com/wp-conten...  \n",
       "3  http://www.moreyspiers.com/memoreys/wp-content...  \n",
       "4  https://theplaidguy.files.wordpress.com/2012/0...  "
      ]
     },
     "execution_count": 10,
     "metadata": {},
     "output_type": "execute_result"
    }
   ],
   "source": [
    "import pandas as pd\n",
    "\n",
    "df = pd.read_csv('C:/Users/Benjamin/Downloads/image-classification-people-food-DFE.csv')\n",
    "df.head()"
   ]
  },
  {
   "cell_type": "code",
   "execution_count": 15,
   "metadata": {},
   "outputs": [
    {
     "name": "stdout",
     "output_type": "stream",
     "text": [
      "28  images successfully downloaded\n",
      "22  images failed to download\n"
     ]
    }
   ],
   "source": [
    "import urllib.request\n",
    "\n",
    "#add number to each image if duplicate label values\n",
    "\n",
    "def bulk_download_image(url_list, label_list, directory=''):\n",
    "    success = 0\n",
    "    fail = 0\n",
    "    for i in range(len(url_list)):\n",
    "        try:\n",
    "            urllib.request.urlretrieve(url_list[i], directory + label_list[i] + str(i) +'.jpg')\n",
    "            success +=1\n",
    "        except:\n",
    "            fail +=1\n",
    "    print(success, \" images successfully downloaded\")\n",
    "    print(fail, \" images failed to download\")\n",
    "\n",
    "bulk_download_image(df['image_url'][0:50], df['if__people_are_eating_the_cake_please_choose_their_gender_'][0:50], save_dir)"
   ]
  },
  {
   "cell_type": "markdown",
   "metadata": {},
   "source": [
    "Note: manually tested some of the failed instances to check the funciton and found there really were a lot of urls which no longer exist"
   ]
  },
  {
   "cell_type": "code",
   "execution_count": null,
   "metadata": {},
   "outputs": [],
   "source": []
  }
 ],
 "metadata": {
  "kernelspec": {
   "display_name": "Python 3",
   "language": "python",
   "name": "python3"
  },
  "language_info": {
   "codemirror_mode": {
    "name": "ipython",
    "version": 3
   },
   "file_extension": ".py",
   "mimetype": "text/x-python",
   "name": "python",
   "nbconvert_exporter": "python",
   "pygments_lexer": "ipython3",
   "version": "3.7.4"
  }
 },
 "nbformat": 4,
 "nbformat_minor": 2
}
