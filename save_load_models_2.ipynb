{
 "cells": [
  {
   "cell_type": "markdown",
   "metadata": {},
   "source": [
    "# [Save and load models](https://www.tensorflow.org/tutorials/keras/save_and_load)\n",
    "\n",
    "**Model progress can be saved during—and after—training. This means a model can resume where it left off and avoid long training times. Saving also means you can share your model and others can recreate your work. When publishing research models and techniques, most machine learning practitioners share:**\n",
    "\n",
    "**• code to create the model, and**  \n",
    "**• the trained weights, or parameters, for the model**\n",
    "\n",
    "**Sharing this data helps others understand how the model works and try it themselves with new data.**  \n",
    "  \n",
    "    \n",
    "## Options\n",
    "**There are different ways to save TensorFlow models—depending on the API you're using. This guide uses [tf.keras](https://www.tensorflow.org/guide/keras), a high-level API to build and train models in TensorFlow. For other approaches, see the TensorFlow [Save and Restore](https://www.tensorflow.org/guide/saved_model) guide or [Saving in eager](https://www.tensorflow.org/guide/eager#object-based_saving).**"
   ]
  },
  {
   "cell_type": "code",
   "execution_count": 2,
   "metadata": {},
   "outputs": [],
   "source": [
    "from __future__ import absolute_import, division, print_function, unicode_literals\n",
    "\n",
    "import os\n",
    "\n",
    "import tensorflow as tf\n",
    "from tensorflow import keras\n",
    "\n",
    "#!pip list"
   ]
  },
  {
   "cell_type": "markdown",
   "metadata": {},
   "source": [
    "## Get an example dataset\n",
    "**To demonstrate how to save and load weights, you'll use the [MNIST](http://yann.lecun.com/exdb/mnist/) dataset. To speed up these runs, use the first 1000 examples:**"
   ]
  },
  {
   "cell_type": "code",
   "execution_count": 3,
   "metadata": {},
   "outputs": [],
   "source": [
    "(train_images, train_labels), (test_images, test_labels) = tf.keras.datasets.mnist.load_data()\n",
    "\n",
    "train_labels = train_labels[:1000]\n",
    "test_labels = test_labels[:1000]\n",
    "\n",
    "train_images = train_images[:1000].reshape(-1, 28 * 28) / 255.0\n",
    "test_images = test_images[:1000].reshape(-1, 28 * 28) / 255.0"
   ]
  },
  {
   "cell_type": "markdown",
   "metadata": {},
   "source": [
    "## Define a model\n",
    "**Start by building a simple sequential model:**"
   ]
  },
  {
   "cell_type": "code",
   "execution_count": 11,
   "metadata": {},
   "outputs": [
    {
     "name": "stdout",
     "output_type": "stream",
     "text": [
      "Model: \"sequential_2\"\n",
      "_________________________________________________________________\n",
      "Layer (type)                 Output Shape              Param #   \n",
      "=================================================================\n",
      "dense_4 (Dense)              (None, 512)               401920    \n",
      "_________________________________________________________________\n",
      "dropout_2 (Dropout)          (None, 512)               0         \n",
      "_________________________________________________________________\n",
      "dense_5 (Dense)              (None, 10)                5130      \n",
      "=================================================================\n",
      "Total params: 407,050\n",
      "Trainable params: 407,050\n",
      "Non-trainable params: 0\n",
      "_________________________________________________________________\n"
     ]
    }
   ],
   "source": [
    "# Define a simple sequential model\n",
    "def create_model():\n",
    "  model = tf.keras.models.Sequential([\n",
    "    keras.layers.Dense(512, activation='relu', input_shape=(784,)),\n",
    "    keras.layers.Dropout(0.2),\n",
    "    keras.layers.Dense(10)\n",
    "  ])\n",
    "\n",
    "  model.compile(optimizer='adam',\n",
    "                loss=tf.losses.SparseCategoricalCrossentropy(from_logits=True),\n",
    "                metrics=['accuracy'])\n",
    "\n",
    "  return model\n",
    "\n",
    "# Create a basic model instance\n",
    "model = create_model()\n",
    "\n",
    "# Display the model's architecture\n",
    "model.summary()"
   ]
  },
  {
   "cell_type": "markdown",
   "metadata": {},
   "source": [
    "## Save checkpoints during training\n",
    "**You can use a trained model without having to retrain it, or pick-up training where you left off—in case the training process was interrupted. The [tf.keras.callbacks.ModelCheckpoint](https://www.tensorflow.org/api_docs/python/tf/keras/callbacks/ModelCheckpoint) callback allows to continually save the model both during and at the end of training.**\n",
    "\n",
    "### Checkpoint callback usage\n",
    "**Create a tf.keras.callbacks.ModelCheckpoint callback that saves weights only during training:**"
   ]
  },
  {
   "cell_type": "code",
   "execution_count": 23,
   "metadata": {
    "scrolled": true
   },
   "outputs": [
    {
     "name": "stdout",
     "output_type": "stream",
     "text": [
      "Train on 1000 samples, validate on 1000 samples\n",
      "Epoch 1/10\n",
      " 928/1000 [==========================>...] - ETA: 0s - loss: 0.0010 - accuracy: 1.0000\n",
      "Epoch 00001: saving model to /Users/benjamin.jones/Desktop/Save Load/training_1/cp.ckpt\n",
      "1000/1000 [==============================] - 0s 127us/sample - loss: 0.0011 - accuracy: 1.0000 - val_loss: 0.4914 - val_accuracy: 0.8790\n",
      "Epoch 2/10\n",
      " 896/1000 [=========================>....] - ETA: 0s - loss: 0.0011 - accuracy: 1.0000    \n",
      "Epoch 00002: saving model to /Users/benjamin.jones/Desktop/Save Load/training_1/cp.ckpt\n",
      "1000/1000 [==============================] - 0s 131us/sample - loss: 0.0011 - accuracy: 1.0000 - val_loss: 0.5010 - val_accuracy: 0.8700\n",
      "Epoch 3/10\n",
      " 896/1000 [=========================>....] - ETA: 0s - loss: 0.0010 - accuracy: 1.0000    \n",
      "Epoch 00003: saving model to /Users/benjamin.jones/Desktop/Save Load/training_1/cp.ckpt\n",
      "1000/1000 [==============================] - 0s 130us/sample - loss: 0.0010 - accuracy: 1.0000 - val_loss: 0.4985 - val_accuracy: 0.8780\n",
      "Epoch 4/10\n",
      " 896/1000 [=========================>....] - ETA: 0s - loss: 9.7028e-04 - accuracy: 1.0000\n",
      "Epoch 00004: saving model to /Users/benjamin.jones/Desktop/Save Load/training_1/cp.ckpt\n",
      "1000/1000 [==============================] - 0s 128us/sample - loss: 9.5064e-04 - accuracy: 1.0000 - val_loss: 0.4929 - val_accuracy: 0.8750\n",
      "Epoch 5/10\n",
      " 832/1000 [=======================>......] - ETA: 0s - loss: 9.7901e-04 - accuracy: 1.0000\n",
      "Epoch 00005: saving model to /Users/benjamin.jones/Desktop/Save Load/training_1/cp.ckpt\n",
      "1000/1000 [==============================] - 0s 135us/sample - loss: 9.4873e-04 - accuracy: 1.0000 - val_loss: 0.5048 - val_accuracy: 0.8760\n",
      "Epoch 6/10\n",
      " 864/1000 [========================>.....] - ETA: 0s - loss: 9.3593e-04 - accuracy: 1.0000\n",
      "Epoch 00006: saving model to /Users/benjamin.jones/Desktop/Save Load/training_1/cp.ckpt\n",
      "1000/1000 [==============================] - 0s 134us/sample - loss: 9.2110e-04 - accuracy: 1.0000 - val_loss: 0.5055 - val_accuracy: 0.8790\n",
      "Epoch 7/10\n",
      " 864/1000 [========================>.....] - ETA: 0s - loss: 7.8168e-04 - accuracy: 1.0000\n",
      "Epoch 00007: saving model to /Users/benjamin.jones/Desktop/Save Load/training_1/cp.ckpt\n",
      "1000/1000 [==============================] - 0s 131us/sample - loss: 8.0754e-04 - accuracy: 1.0000 - val_loss: 0.5026 - val_accuracy: 0.8760\n",
      "Epoch 8/10\n",
      " 864/1000 [========================>.....] - ETA: 0s - loss: 8.0015e-04 - accuracy: 1.0000\n",
      "Epoch 00008: saving model to /Users/benjamin.jones/Desktop/Save Load/training_1/cp.ckpt\n",
      "1000/1000 [==============================] - 0s 135us/sample - loss: 7.8004e-04 - accuracy: 1.0000 - val_loss: 0.5033 - val_accuracy: 0.8830\n",
      "Epoch 9/10\n",
      " 928/1000 [==========================>...] - ETA: 0s - loss: 8.2891e-04 - accuracy: 1.0000\n",
      "Epoch 00009: saving model to /Users/benjamin.jones/Desktop/Save Load/training_1/cp.ckpt\n",
      "1000/1000 [==============================] - 0s 130us/sample - loss: 8.1153e-04 - accuracy: 1.0000 - val_loss: 0.4988 - val_accuracy: 0.8790\n",
      "Epoch 10/10\n",
      " 896/1000 [=========================>....] - ETA: 0s - loss: 8.7673e-04 - accuracy: 1.0000\n",
      "Epoch 00010: saving model to /Users/benjamin.jones/Desktop/Save Load/training_1/cp.ckpt\n",
      "1000/1000 [==============================] - 0s 130us/sample - loss: 8.6865e-04 - accuracy: 1.0000 - val_loss: 0.5147 - val_accuracy: 0.8750\n"
     ]
    },
    {
     "data": {
      "text/plain": [
       "<tensorflow.python.keras.callbacks.History at 0x13d376510>"
      ]
     },
     "execution_count": 23,
     "metadata": {},
     "output_type": "execute_result"
    }
   ],
   "source": [
    "checkpoint_path = '/Users/benjamin.jones/Desktop/Save Load/training_1/cp.ckpt'\n",
    "checkpoint_dir = os.path.dirname(checkpoint_path)\n",
    "\n",
    "# Create a callback that saves the model's weights\n",
    "cp_callback = tf.keras.callbacks.ModelCheckpoint(filepath=checkpoint_path,\n",
    "                                                 save_weights_only=True,\n",
    "                                                 verbose=1)\n",
    "\n",
    "# Train the model with the new callback\n",
    "model.fit(train_images, \n",
    "          train_labels,  \n",
    "          epochs=10,\n",
    "          validation_data=(test_images,test_labels),\n",
    "          callbacks=[cp_callback])  # Pass callback to training\n",
    "\n",
    "# This may generate warnings related to saving the state of the optimizer.\n",
    "# These warnings (and similar warnings throughout this notebook)\n",
    "# are in place to discourage outdated usage, and can be ignored."
   ]
  },
  {
   "cell_type": "markdown",
   "metadata": {},
   "source": [
    "**This creates a single collection of TensorFlow checkpoint files that are updated at the end of each epoch:**"
   ]
  },
  {
   "cell_type": "code",
   "execution_count": 24,
   "metadata": {},
   "outputs": [
    {
     "data": {
      "text/plain": [
       "'/Users/benjamin.jones/Desktop/Save Load/training_1/cp.ckpt'"
      ]
     },
     "execution_count": 24,
     "metadata": {},
     "output_type": "execute_result"
    }
   ],
   "source": [
    "latest = tf.train.latest_checkpoint(checkpoint_dir) #returns file name of latest checkpoint\n",
    "latest"
   ]
  },
  {
   "cell_type": "markdown",
   "metadata": {},
   "source": [
    "**Create a new, untrained model. When restoring a model from weights-only, you must have a model with the same architecture as the original model. Since it's the same model architecture, you can share weights despite that it's a different instance of the model.**\n",
    "\n",
    "**Now rebuild a fresh, untrained model, and evaluate it on the test set. An untrained model will perform at chance levels (~10% accuracy):**"
   ]
  },
  {
   "cell_type": "code",
   "execution_count": 14,
   "metadata": {},
   "outputs": [
    {
     "name": "stdout",
     "output_type": "stream",
     "text": [
      "1000/1000 - 0s - loss: 2.3476 - accuracy: 0.0870\n",
      "Untrained model, accuracy:  8.70%\n"
     ]
    }
   ],
   "source": [
    "# Create a basic model instance\n",
    "model = create_model()\n",
    "\n",
    "# Evaluate the model\n",
    "loss, acc = model.evaluate(test_images,  test_labels, verbose=2)\n",
    "print(\"Untrained model, accuracy: {:5.2f}%\".format(100*acc))"
   ]
  },
  {
   "cell_type": "markdown",
   "metadata": {},
   "source": [
    "**Then load the weights from the checkpoint and re-evaluate:**"
   ]
  },
  {
   "cell_type": "code",
   "execution_count": 15,
   "metadata": {},
   "outputs": [
    {
     "name": "stdout",
     "output_type": "stream",
     "text": [
      "1000/1000 - 0s - loss: 0.3870 - accuracy: 0.8770\n",
      "Restored model, accuracy: 87.70%\n"
     ]
    }
   ],
   "source": [
    "# Loads the weights\n",
    "model.load_weights(checkpoint_path)\n",
    "\n",
    "# Re-evaluate the model\n",
    "loss,acc = model.evaluate(test_images,  test_labels, verbose=2)\n",
    "print(\"Restored model, accuracy: {:5.2f}%\".format(100*acc))"
   ]
  },
  {
   "cell_type": "markdown",
   "metadata": {},
   "source": [
    "## Checkpoint callback options\n",
    "**The callback provides several options to provide unique names for checkpoints and adjust the checkpointing frequency.**\n",
    "\n",
    "**Train a new model, and save uniquely named checkpoints once every five epochs:**"
   ]
  },
  {
   "cell_type": "code",
   "execution_count": 18,
   "metadata": {},
   "outputs": [
    {
     "name": "stdout",
     "output_type": "stream",
     "text": [
      "\n",
      "Epoch 00001: saving model to /Users/benjamin.jones/Desktop/Save Load/training_2/cp-0001.ckpt\n",
      "\n",
      "Epoch 00002: saving model to /Users/benjamin.jones/Desktop/Save Load/training_2/cp-0002.ckpt\n",
      "\n",
      "Epoch 00003: saving model to /Users/benjamin.jones/Desktop/Save Load/training_2/cp-0003.ckpt\n",
      "\n",
      "Epoch 00004: saving model to /Users/benjamin.jones/Desktop/Save Load/training_2/cp-0004.ckpt\n",
      "\n",
      "Epoch 00005: saving model to /Users/benjamin.jones/Desktop/Save Load/training_2/cp-0005.ckpt\n",
      "\n",
      "Epoch 00006: saving model to /Users/benjamin.jones/Desktop/Save Load/training_2/cp-0006.ckpt\n",
      "\n",
      "Epoch 00007: saving model to /Users/benjamin.jones/Desktop/Save Load/training_2/cp-0007.ckpt\n",
      "\n",
      "Epoch 00008: saving model to /Users/benjamin.jones/Desktop/Save Load/training_2/cp-0008.ckpt\n",
      "\n",
      "Epoch 00009: saving model to /Users/benjamin.jones/Desktop/Save Load/training_2/cp-0009.ckpt\n",
      "\n",
      "Epoch 00010: saving model to /Users/benjamin.jones/Desktop/Save Load/training_2/cp-0010.ckpt\n",
      "\n",
      "Epoch 00011: saving model to /Users/benjamin.jones/Desktop/Save Load/training_2/cp-0011.ckpt\n",
      "\n",
      "Epoch 00012: saving model to /Users/benjamin.jones/Desktop/Save Load/training_2/cp-0012.ckpt\n",
      "\n",
      "Epoch 00013: saving model to /Users/benjamin.jones/Desktop/Save Load/training_2/cp-0013.ckpt\n",
      "\n",
      "Epoch 00014: saving model to /Users/benjamin.jones/Desktop/Save Load/training_2/cp-0014.ckpt\n",
      "\n",
      "Epoch 00015: saving model to /Users/benjamin.jones/Desktop/Save Load/training_2/cp-0015.ckpt\n",
      "\n",
      "Epoch 00016: saving model to /Users/benjamin.jones/Desktop/Save Load/training_2/cp-0016.ckpt\n",
      "\n",
      "Epoch 00017: saving model to /Users/benjamin.jones/Desktop/Save Load/training_2/cp-0017.ckpt\n",
      "\n",
      "Epoch 00018: saving model to /Users/benjamin.jones/Desktop/Save Load/training_2/cp-0018.ckpt\n",
      "\n",
      "Epoch 00019: saving model to /Users/benjamin.jones/Desktop/Save Load/training_2/cp-0019.ckpt\n",
      "\n",
      "Epoch 00020: saving model to /Users/benjamin.jones/Desktop/Save Load/training_2/cp-0020.ckpt\n",
      "\n",
      "Epoch 00021: saving model to /Users/benjamin.jones/Desktop/Save Load/training_2/cp-0021.ckpt\n",
      "\n",
      "Epoch 00022: saving model to /Users/benjamin.jones/Desktop/Save Load/training_2/cp-0022.ckpt\n",
      "\n",
      "Epoch 00023: saving model to /Users/benjamin.jones/Desktop/Save Load/training_2/cp-0023.ckpt\n",
      "\n",
      "Epoch 00024: saving model to /Users/benjamin.jones/Desktop/Save Load/training_2/cp-0024.ckpt\n",
      "\n",
      "Epoch 00025: saving model to /Users/benjamin.jones/Desktop/Save Load/training_2/cp-0025.ckpt\n",
      "\n",
      "Epoch 00026: saving model to /Users/benjamin.jones/Desktop/Save Load/training_2/cp-0026.ckpt\n",
      "\n",
      "Epoch 00027: saving model to /Users/benjamin.jones/Desktop/Save Load/training_2/cp-0027.ckpt\n",
      "\n",
      "Epoch 00028: saving model to /Users/benjamin.jones/Desktop/Save Load/training_2/cp-0028.ckpt\n",
      "\n",
      "Epoch 00029: saving model to /Users/benjamin.jones/Desktop/Save Load/training_2/cp-0029.ckpt\n",
      "\n",
      "Epoch 00030: saving model to /Users/benjamin.jones/Desktop/Save Load/training_2/cp-0030.ckpt\n",
      "\n",
      "Epoch 00031: saving model to /Users/benjamin.jones/Desktop/Save Load/training_2/cp-0031.ckpt\n",
      "\n",
      "Epoch 00032: saving model to /Users/benjamin.jones/Desktop/Save Load/training_2/cp-0032.ckpt\n",
      "\n",
      "Epoch 00033: saving model to /Users/benjamin.jones/Desktop/Save Load/training_2/cp-0033.ckpt\n",
      "\n",
      "Epoch 00034: saving model to /Users/benjamin.jones/Desktop/Save Load/training_2/cp-0034.ckpt\n",
      "\n",
      "Epoch 00035: saving model to /Users/benjamin.jones/Desktop/Save Load/training_2/cp-0035.ckpt\n",
      "\n",
      "Epoch 00036: saving model to /Users/benjamin.jones/Desktop/Save Load/training_2/cp-0036.ckpt\n",
      "\n",
      "Epoch 00037: saving model to /Users/benjamin.jones/Desktop/Save Load/training_2/cp-0037.ckpt\n",
      "\n",
      "Epoch 00038: saving model to /Users/benjamin.jones/Desktop/Save Load/training_2/cp-0038.ckpt\n",
      "\n",
      "Epoch 00039: saving model to /Users/benjamin.jones/Desktop/Save Load/training_2/cp-0039.ckpt\n",
      "\n",
      "Epoch 00040: saving model to /Users/benjamin.jones/Desktop/Save Load/training_2/cp-0040.ckpt\n",
      "\n",
      "Epoch 00041: saving model to /Users/benjamin.jones/Desktop/Save Load/training_2/cp-0041.ckpt\n",
      "\n",
      "Epoch 00042: saving model to /Users/benjamin.jones/Desktop/Save Load/training_2/cp-0042.ckpt\n",
      "\n",
      "Epoch 00043: saving model to /Users/benjamin.jones/Desktop/Save Load/training_2/cp-0043.ckpt\n",
      "\n",
      "Epoch 00044: saving model to /Users/benjamin.jones/Desktop/Save Load/training_2/cp-0044.ckpt\n",
      "\n",
      "Epoch 00045: saving model to /Users/benjamin.jones/Desktop/Save Load/training_2/cp-0045.ckpt\n",
      "\n",
      "Epoch 00046: saving model to /Users/benjamin.jones/Desktop/Save Load/training_2/cp-0046.ckpt\n",
      "\n",
      "Epoch 00047: saving model to /Users/benjamin.jones/Desktop/Save Load/training_2/cp-0047.ckpt\n",
      "\n",
      "Epoch 00048: saving model to /Users/benjamin.jones/Desktop/Save Load/training_2/cp-0048.ckpt\n",
      "\n",
      "Epoch 00049: saving model to /Users/benjamin.jones/Desktop/Save Load/training_2/cp-0049.ckpt\n",
      "\n",
      "Epoch 00050: saving model to /Users/benjamin.jones/Desktop/Save Load/training_2/cp-0050.ckpt\n"
     ]
    },
    {
     "data": {
      "text/plain": [
       "<tensorflow.python.keras.callbacks.History at 0x13cef1f10>"
      ]
     },
     "execution_count": 18,
     "metadata": {},
     "output_type": "execute_result"
    }
   ],
   "source": [
    "# Include the epoch in the file name (uses `str.format`)\n",
    "checkpoint_path = \"/Users/benjamin.jones/Desktop/Save Load/training_2/cp-{epoch:04d}.ckpt\"\n",
    "checkpoint_dir = os.path.dirname(checkpoint_path)\n",
    "\n",
    "# Create a callback that saves the model's weights epoch\n",
    "cp_callback = tf.keras.callbacks.ModelCheckpoint(\n",
    "    filepath=checkpoint_path, \n",
    "    verbose=1, \n",
    "    save_weights_only=True,\n",
    "    save_freq='epoch')\n",
    "\n",
    "# Create a new model instance\n",
    "model = create_model()\n",
    "\n",
    "# Save the weights using the `checkpoint_path` format\n",
    "model.save_weights(checkpoint_path.format(epoch=0))\n",
    "\n",
    "# Train the model with the new callback\n",
    "model.fit(train_images, \n",
    "              train_labels,\n",
    "              epochs=50, \n",
    "              callbacks=[cp_callback],\n",
    "              validation_data=(test_images,test_labels),\n",
    "              verbose=0)"
   ]
  },
  {
   "cell_type": "markdown",
   "metadata": {},
   "source": [
    "**Now, look at the resulting checkpoints and choose the latest one:**"
   ]
  },
  {
   "cell_type": "code",
   "execution_count": 22,
   "metadata": {},
   "outputs": [
    {
     "data": {
      "text/plain": [
       "'/Users/benjamin.jones/Desktop/Save Load/training_2/cp-0050.ckpt'"
      ]
     },
     "execution_count": 22,
     "metadata": {},
     "output_type": "execute_result"
    }
   ],
   "source": [
    "latest = tf.train.latest_checkpoint(checkpoint_dir) #returns file name of latest checkpoint\n",
    "latest"
   ]
  },
  {
   "cell_type": "markdown",
   "metadata": {},
   "source": [
    "**To test, reset the model and load the latest checkpoint:**"
   ]
  },
  {
   "cell_type": "code",
   "execution_count": 25,
   "metadata": {},
   "outputs": [
    {
     "name": "stdout",
     "output_type": "stream",
     "text": [
      "1000/1000 - 0s - loss: 0.5147 - accuracy: 0.8750\n",
      "Restored model, accuracy: 87.50%\n"
     ]
    }
   ],
   "source": [
    "# Create a new model instance\n",
    "model = create_model()\n",
    "\n",
    "# Load the previously saved weights\n",
    "model.load_weights(latest)\n",
    "\n",
    "# Re-evaluate the model\n",
    "loss, acc = model.evaluate(test_images,  test_labels, verbose=2)\n",
    "print(\"Restored model, accuracy: {:5.2f}%\".format(100*acc))"
   ]
  },
  {
   "cell_type": "markdown",
   "metadata": {},
   "source": [
    "## What are these files?\n",
    "**The above code stores the weights to a collection of [checkpoint](https://www.tensorflow.org/guide/saved_model#save_and_restore_variables)-formatted files that contain only the trained weights in a binary format. Checkpoints contain:**\n",
    "\n",
    "**• One or more shards that contain your model's weights.**  \n",
    "**• An index file that indicates which weights are stored in a which shard.** \n",
    "\n",
    "**If you are only training a model on a single machine, you'll have one shard with the suffix: .data-00000-of-00001**"
   ]
  },
  {
   "cell_type": "markdown",
   "metadata": {},
   "source": [
    "## Manually save weights\n",
    "**You saw how to load the weights into a model. Manually saving them is just as simple with the [Model.save_weights](https://www.tensorflow.org/api_docs/python/tf/keras/Model#save_weights) method. By default, [tf.keras](https://www.tensorflow.org/api_docs/python/tf/keras)—and save_weights in particular—uses the TensorFlow [checkpoint](https://www.tensorflow.org/guide/checkpoint) format with a .ckpt extension (saving in [HDF5](https://js.tensorflow.org/tutorials/import-keras.html) with a .h5 extension is covered in the [Save and serialize models](https://www.tensorflow.org/guide/keras/save_and_serialize#weights_only_saving_in_savedmodel_format) guide):**"
   ]
  },
  {
   "cell_type": "code",
   "execution_count": 28,
   "metadata": {},
   "outputs": [
    {
     "name": "stdout",
     "output_type": "stream",
     "text": [
      "WARNING:tensorflow:Unresolved object in checkpoint: (root).optimizer.iter\n",
      "WARNING:tensorflow:Unresolved object in checkpoint: (root).optimizer.beta_1\n",
      "WARNING:tensorflow:Unresolved object in checkpoint: (root).optimizer.beta_2\n",
      "WARNING:tensorflow:Unresolved object in checkpoint: (root).optimizer.decay\n",
      "WARNING:tensorflow:Unresolved object in checkpoint: (root).optimizer.learning_rate\n",
      "WARNING:tensorflow:A checkpoint was restored (e.g. tf.train.Checkpoint.restore or tf.keras.Model.load_weights) but not all checkpointed values were used. See above for specific issues. Use expect_partial() on the load status object, e.g. tf.train.Checkpoint.restore(...).expect_partial(), to silence these warnings, or use assert_consumed() to make the check explicit. See https://www.tensorflow.org/guide/checkpoint#loading_mechanics for details.\n",
      "WARNING:tensorflow:Unresolved object in checkpoint: (root).optimizer.iter\n",
      "WARNING:tensorflow:Unresolved object in checkpoint: (root).optimizer.beta_1\n",
      "WARNING:tensorflow:Unresolved object in checkpoint: (root).optimizer.beta_2\n",
      "WARNING:tensorflow:Unresolved object in checkpoint: (root).optimizer.decay\n",
      "WARNING:tensorflow:Unresolved object in checkpoint: (root).optimizer.learning_rate\n",
      "WARNING:tensorflow:A checkpoint was restored (e.g. tf.train.Checkpoint.restore or tf.keras.Model.load_weights) but not all checkpointed values were used. See above for specific issues. Use expect_partial() on the load status object, e.g. tf.train.Checkpoint.restore(...).expect_partial(), to silence these warnings, or use assert_consumed() to make the check explicit. See https://www.tensorflow.org/guide/checkpoint#loading_mechanics for details.\n",
      "WARNING:tensorflow:Unresolved object in checkpoint: (root).optimizer.iter\n",
      "WARNING:tensorflow:Unresolved object in checkpoint: (root).optimizer.beta_1\n",
      "WARNING:tensorflow:Unresolved object in checkpoint: (root).optimizer.beta_2\n",
      "WARNING:tensorflow:Unresolved object in checkpoint: (root).optimizer.decay\n",
      "WARNING:tensorflow:Unresolved object in checkpoint: (root).optimizer.learning_rate\n",
      "WARNING:tensorflow:A checkpoint was restored (e.g. tf.train.Checkpoint.restore or tf.keras.Model.load_weights) but not all checkpointed values were used. See above for specific issues. Use expect_partial() on the load status object, e.g. tf.train.Checkpoint.restore(...).expect_partial(), to silence these warnings, or use assert_consumed() to make the check explicit. See https://www.tensorflow.org/guide/checkpoint#loading_mechanics for details.\n",
      "1000/1000 - 0s - loss: 0.5147 - accuracy: 0.8750\n",
      "Restored model, accuracy: 87.50%\n"
     ]
    }
   ],
   "source": [
    "# Save the weights\n",
    "model.save_weights('/Users/benjamin.jones/Desktop/Save Load/checkpoints/my_checkpoint')\n",
    "\n",
    "# Create a new model instance\n",
    "model = create_model()\n",
    "\n",
    "# Restore the weights\n",
    "model.load_weights('/Users/benjamin.jones/Desktop/Save Load/checkpoints/my_checkpoint')\n",
    "\n",
    "# Evaluate the model\n",
    "loss,acc = model.evaluate(test_images,  test_labels, verbose=2)\n",
    "print(\"Restored model, accuracy: {:5.2f}%\".format(100*acc))"
   ]
  },
  {
   "cell_type": "markdown",
   "metadata": {},
   "source": [
    "## Save the entire model\n",
    "**Call [model.save](https://www.tensorflow.org/api_docs/python/tf/keras/Model#save) to save the a model's architecture, weights, and training configuration in a single file/folder. This allows you to export a model so it can be used without access to the original Python code*. Since the optimizer-state is recovered, you can resume training from exactly where you left off.**\n",
    "\n",
    "**Saving a fully-functional model is very useful—you can load them in TensorFlow.js ([HDF5](https://js.tensorflow.org/tutorials/import-keras.html), [Saved Model](https://js.tensorflow.org/tutorials/import-saved-model.html)) and then train and run them in web browsers, or convert them to run on mobile devices using TensorFlow Lite ([HDF5](https://www.tensorflow.org/lite/convert/python_api#exporting_a_tfkeras_file_), [Saved Model](https://www.tensorflow.org/lite/convert/python_api#exporting_a_savedmodel_))**\n",
    "\n",
    "***Custom objects (e.g. subclassed models or layers) require special attention when saving and loading. See the Saving custom objects section below**\n",
    "\n",
    "### HDF5 format\n",
    "**Keras provides a basic save format using the [HDF5](https://en.wikipedia.org/wiki/Hierarchical_Data_Format) standard.**"
   ]
  },
  {
   "cell_type": "code",
   "execution_count": 29,
   "metadata": {},
   "outputs": [
    {
     "name": "stdout",
     "output_type": "stream",
     "text": [
      "Train on 1000 samples\n",
      "Epoch 1/5\n",
      "1000/1000 [==============================] - 0s 272us/sample - loss: 1.1707 - accuracy: 0.6550\n",
      "Epoch 2/5\n",
      "1000/1000 [==============================] - 0s 62us/sample - loss: 0.4137 - accuracy: 0.8890\n",
      "Epoch 3/5\n",
      "1000/1000 [==============================] - 0s 62us/sample - loss: 0.2827 - accuracy: 0.9260\n",
      "Epoch 4/5\n",
      "1000/1000 [==============================] - 0s 63us/sample - loss: 0.2066 - accuracy: 0.9590\n",
      "Epoch 5/5\n",
      "1000/1000 [==============================] - 0s 61us/sample - loss: 0.1511 - accuracy: 0.9640\n"
     ]
    }
   ],
   "source": [
    "# Create and train a new model instance.\n",
    "model = create_model()\n",
    "model.fit(train_images, train_labels, epochs=5)\n",
    "\n",
    "# Save the entire model to a HDF5 file.\n",
    "# The '.h5' extension indicates that the model should be saved to HDF5.\n",
    "model.save('/Users/benjamin.jones/Desktop/Save Load/my_model.h5') "
   ]
  },
  {
   "cell_type": "markdown",
   "metadata": {},
   "source": [
    "**Now, recreate the model from that file:**"
   ]
  },
  {
   "cell_type": "code",
   "execution_count": 30,
   "metadata": {},
   "outputs": [
    {
     "name": "stdout",
     "output_type": "stream",
     "text": [
      "Model: \"sequential_11\"\n",
      "_________________________________________________________________\n",
      "Layer (type)                 Output Shape              Param #   \n",
      "=================================================================\n",
      "dense_22 (Dense)             (None, 512)               401920    \n",
      "_________________________________________________________________\n",
      "dropout_11 (Dropout)         (None, 512)               0         \n",
      "_________________________________________________________________\n",
      "dense_23 (Dense)             (None, 10)                5130      \n",
      "=================================================================\n",
      "Total params: 407,050\n",
      "Trainable params: 407,050\n",
      "Non-trainable params: 0\n",
      "_________________________________________________________________\n"
     ]
    }
   ],
   "source": [
    "# Recreate the exact same model, including its weights and the optimizer\n",
    "new_model = tf.keras.models.load_model('/Users/benjamin.jones/Desktop/Save Load/my_model.h5')\n",
    "\n",
    "# Show the model architecture\n",
    "new_model.summary()"
   ]
  },
  {
   "cell_type": "markdown",
   "metadata": {},
   "source": [
    "**Check its accuracy:**"
   ]
  },
  {
   "cell_type": "code",
   "execution_count": 31,
   "metadata": {},
   "outputs": [
    {
     "name": "stdout",
     "output_type": "stream",
     "text": [
      "1000/1000 - 0s - loss: 0.4408 - accuracy: 0.8650\n",
      "Restored model, accuracy: 86.50%\n"
     ]
    }
   ],
   "source": [
    "loss, acc = new_model.evaluate(test_images,  test_labels, verbose=2)\n",
    "print('Restored model, accuracy: {:5.2f}%'.format(100*acc))"
   ]
  },
  {
   "cell_type": "markdown",
   "metadata": {},
   "source": [
    "**This technique saves everything:**\n",
    "\n",
    "**•The weight values**  \n",
    "**• The model's configuration(architecture)**  \n",
    "**• The optimizer configuration** . \n",
    "\n",
    "**Keras saves models by inspecting the architecture. Currently, it is not able to save TensorFlow optimizers (from [tf.train](https://www.tensorflow.org/api_docs/python/tf/train)). When using those you will need to re-compile the model after loading, and you will lose the state of the optimizer.**"
   ]
  },
  {
   "cell_type": "markdown",
   "metadata": {},
   "source": [
    "## SavedModel format\n",
    "\n",
    "**The SavedModel format is another way to serialize models. Models saved in this format can be restored using [tf.keras.models.load_model](https://www.tensorflow.org/api_docs/python/tf/keras/models/load_model) and are compatible with TensorFlow Serving. The [SavedModel guide](https://www.tensorflow.org/guide/saved_model) goes into detail about how to serve/inspect the SavedModel. The section below illustrates the steps to saving and restoring the model.**"
   ]
  },
  {
   "cell_type": "code",
   "execution_count": 33,
   "metadata": {},
   "outputs": [
    {
     "name": "stdout",
     "output_type": "stream",
     "text": [
      "Train on 1000 samples\n",
      "Epoch 1/5\n",
      "1000/1000 [==============================] - 0s 269us/sample - loss: 1.1431 - accuracy: 0.6890\n",
      "Epoch 2/5\n",
      "1000/1000 [==============================] - 0s 63us/sample - loss: 0.4173 - accuracy: 0.8760\n",
      "Epoch 3/5\n",
      "1000/1000 [==============================] - 0s 63us/sample - loss: 0.2761 - accuracy: 0.9370\n",
      "Epoch 4/5\n",
      "1000/1000 [==============================] - 0s 61us/sample - loss: 0.1958 - accuracy: 0.9520\n",
      "Epoch 5/5\n",
      "1000/1000 [==============================] - 0s 60us/sample - loss: 0.1548 - accuracy: 0.9650\n",
      "INFO:tensorflow:Assets written to: /Users/benjamin.jones/Desktop/Save Load/saved_model/my_model/assets\n"
     ]
    }
   ],
   "source": [
    "# Create and train a new model instance.\n",
    "model = create_model()\n",
    "model.fit(train_images, train_labels, epochs=5)\n",
    "\n",
    "# Save the entire model as a SavedModel.\n",
    "!mkdir -p saved_model\n",
    "model.save('/Users/benjamin.jones/Desktop/Save Load/saved_model/my_model') "
   ]
  },
  {
   "cell_type": "markdown",
   "metadata": {},
   "source": [
    "**The SavedModel format is a directory containing a protobuf binary and a Tensorflow checkpoint. Inspect the saved model directory:**"
   ]
  },
  {
   "cell_type": "code",
   "execution_count": 34,
   "metadata": {},
   "outputs": [
    {
     "name": "stdout",
     "output_type": "stream",
     "text": [
      "ls: saved_model/my_model: No such file or directory\r\n"
     ]
    }
   ],
   "source": [
    "# my_model directory\n",
    "!ls saved_model\n",
    "\n",
    "# Contains an assets folder, saved_model.pb, and variables folder.\n",
    "!ls saved_model/my_model"
   ]
  },
  {
   "cell_type": "markdown",
   "metadata": {},
   "source": [
    "**Reload a fresh Keras model from the saved model:**"
   ]
  },
  {
   "cell_type": "code",
   "execution_count": 36,
   "metadata": {},
   "outputs": [
    {
     "name": "stdout",
     "output_type": "stream",
     "text": [
      "Model: \"sequential_13\"\n",
      "_________________________________________________________________\n",
      "Layer (type)                 Output Shape              Param #   \n",
      "=================================================================\n",
      "dense_26 (Dense)             (None, 512)               401920    \n",
      "_________________________________________________________________\n",
      "dropout_13 (Dropout)         (None, 512)               0         \n",
      "_________________________________________________________________\n",
      "dense_27 (Dense)             (None, 10)                5130      \n",
      "=================================================================\n",
      "Total params: 407,050\n",
      "Trainable params: 407,050\n",
      "Non-trainable params: 0\n",
      "_________________________________________________________________\n"
     ]
    }
   ],
   "source": [
    "new_model = tf.keras.models.load_model('/Users/benjamin.jones/Desktop/Save Load/saved_model/my_model')\n",
    "\n",
    "# Check its architecture\n",
    "new_model.summary()"
   ]
  },
  {
   "cell_type": "markdown",
   "metadata": {},
   "source": [
    "**The restored model is compiled with the same arguments as the original model. Try running evaluate and predict with the loaded model:**"
   ]
  },
  {
   "cell_type": "code",
   "execution_count": 37,
   "metadata": {},
   "outputs": [
    {
     "name": "stdout",
     "output_type": "stream",
     "text": [
      "1000/1000 - 0s - loss: 0.4056 - accuracy: 0.8700\n",
      "Restored model, accuracy: 87.00%\n",
      "(1000, 10)\n"
     ]
    }
   ],
   "source": [
    "# Evaluate the restored model\n",
    "loss, acc = new_model.evaluate(test_images,  test_labels, verbose=2)\n",
    "print('Restored model, accuracy: {:5.2f}%'.format(100*acc))\n",
    "\n",
    "print(new_model.predict(test_images).shape)"
   ]
  },
  {
   "cell_type": "markdown",
   "metadata": {},
   "source": [
    "## Saving custom objects\n",
    "\n",
    "**If you are using the SavedModel format, you can skip this section. The key difference between HDF5 and SavedModel is that HDF5 uses object configs to save the model architecture, while SavedModel saves the execution graph. Thus, SavedModels are able to save custom objects like subclassed models and custom layers without requiring the orginal code.**\n",
    "\n",
    "**To save custom objects to HDF5, you must do the following:**\n",
    "\n",
    "**1. Define a get_config method in your object, and optionally a from_config classmethod.** . \n",
    "**• get_config(self) returns a JSON-serializable dictionary of parameters needed to recreate the object.** \n",
    "**• from_config(cls, config) uses the returned config from get_config to create a new object. By default, this function will use the config as initialization kwargs (return cls(**config)).** . \n",
    "\n",
    "**2. Pass the object to the custom_objects argument when loading the model. The argument must be a dictionary mapping the string class name to the Python class. E.g. tf.keras.models.load_model(path, custom_objects={'CustomLayer': CustomLayer})** . \n",
    "\n",
    "**See the [Writing layers and models from scratch](https://www.tensorflow.org/guide/keras/custom_layers_and_models) tutorial for examples of custom objects and get_config.**"
   ]
  },
  {
   "cell_type": "code",
   "execution_count": null,
   "metadata": {},
   "outputs": [],
   "source": []
  }
 ],
 "metadata": {
  "kernelspec": {
   "display_name": "Python 3",
   "language": "python",
   "name": "python3"
  },
  "language_info": {
   "codemirror_mode": {
    "name": "ipython",
    "version": 3
   },
   "file_extension": ".py",
   "mimetype": "text/x-python",
   "name": "python",
   "nbconvert_exporter": "python",
   "pygments_lexer": "ipython3",
   "version": "3.7.4"
  }
 },
 "nbformat": 4,
 "nbformat_minor": 2
}
