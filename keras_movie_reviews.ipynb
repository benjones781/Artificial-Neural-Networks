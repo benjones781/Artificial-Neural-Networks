{
 "cells": [
  {
   "cell_type": "code",
   "execution_count": 1,
   "metadata": {},
   "outputs": [
    {
     "name": "stdout",
     "output_type": "stream",
     "text": [
      "Version:  2.1.0\n",
      "Eager mode:  True\n",
      "Hub version:  0.7.0\n",
      "GPU is NOT AVAILABLE\n"
     ]
    }
   ],
   "source": [
    "#https://www.tensorflow.org/tutorials/keras/text_classification_with_hub\n",
    "from __future__ import absolute_import, division, print_function, unicode_literals\n",
    "\n",
    "import tensorflow as tf\n",
    "import tensorflow_hub as hub\n",
    "import tensorflow_datasets as tfds\n",
    "import numpy as np\n",
    "import pandas as pd\n",
    "import matplotlib.pyplot as plt\n",
    "import os\n",
    "\n",
    "#!pip list\n",
    "print(\"Version: \", tf.__version__)\n",
    "print(\"Eager mode: \", tf.executing_eagerly())\n",
    "print(\"Hub version: \", hub.__version__)\n",
    "print(\"GPU is\", \"available\" if tf.config.experimental.list_physical_devices(\"GPU\") else \"NOT AVAILABLE\")"
   ]
  },
  {
   "cell_type": "markdown",
   "metadata": {},
   "source": [
    "## Downloading the data (only done once)"
   ]
  },
  {
   "cell_type": "code",
   "execution_count": 2,
   "metadata": {},
   "outputs": [],
   "source": [
    "# Split the training set into 60% and 40%, so we'll end up with 15,000 examples\n",
    "# for training, 10,000 examples for validation and 25,000 examples for testing.\n",
    "train_data, validation_data, test_data = tfds.load(\n",
    "    name=\"imdb_reviews\", \n",
    "    split=('train[:60%]', 'train[60%:]', 'test'),\n",
    "    as_supervised=True)"
   ]
  },
  {
   "cell_type": "markdown",
   "metadata": {},
   "source": [
    "## Each example is a sentence representing moveir review and label.\n",
    "**Label is 0 for negative and 1 for positive. Let's look at the first couple examples:**"
   ]
  },
  {
   "cell_type": "code",
   "execution_count": 8,
   "metadata": {},
   "outputs": [
    {
     "data": {
      "text/plain": [
       "<bound method DatasetV2.batch of <DatasetV1Adapter shapes: ((), ()), types: (tf.string, tf.int64)>>"
      ]
     },
     "execution_count": 8,
     "metadata": {},
     "output_type": "execute_result"
    }
   ],
   "source": [
    "train_data.batch"
   ]
  },
  {
   "cell_type": "code",
   "execution_count": 14,
   "metadata": {},
   "outputs": [
    {
     "name": "stdout",
     "output_type": "stream",
     "text": [
      "tf.Tensor(\n",
      "[b\"This was an absolutely terrible movie. Don't be lured in by Christopher Walken or Michael Ironside. Both are great actors, but this must simply be their worst role in history. Even their great acting could not redeem this movie's ridiculous storyline. This movie is an early nineties US propaganda piece. The most pathetic scenes were those when the Columbian rebels were making their cases for revolutions. Maria Conchita Alonso appeared phony, and her pseudo-love affair with Walken was nothing but a pathetic emotional plug in a movie that was devoid of any real meaning. I am disappointed that there are movies like this, ruining actor's like Christopher Walken's good name. I could barely sit through it.\"\n",
      " b'I have been known to fall asleep during films, but this is usually due to a combination of things including, really tired, being warm and comfortable on the sette and having just eaten a lot. However on this occasion I fell asleep because the film was rubbish. The plot development was constant. Constantly slow and boring. Things seemed to happen, but with no explanation of what was causing them or why. I admit, I may have missed part of the film, but i watched the majority of it and everything just seemed to happen of its own accord without any real concern for anything else. I cant recommend this film at all.'\n",
      " b'Mann photographs the Alberta Rocky Mountains in a superb fashion, and Jimmy Stewart and Walter Brennan give enjoyable performances as they always seem to do. <br /><br />But come on Hollywood - a Mountie telling the people of Dawson City, Yukon to elect themselves a marshal (yes a marshal!) and to enforce the law themselves, then gunfighters battling it out on the streets for control of the town? <br /><br />Nothing even remotely resembling that happened on the Canadian side of the border during the Klondike gold rush. Mr. Mann and company appear to have mistaken Dawson City for Deadwood, the Canadian North for the American Wild West.<br /><br />Canadian viewers be prepared for a Reefer Madness type of enjoyable howl with this ludicrous plot, or, to shake your head in disgust.'\n",
      " b'This is the kind of film for a snowy Sunday afternoon when the rest of the world can go ahead with its own business as you descend into a big arm-chair and mellow for a couple of hours. Wonderful performances from Cher and Nicolas Cage (as always) gently row the plot along. There are no rapids to cross, no dangerous waters, just a warm and witty paddle through New York life at its best. A family film in every sense and one that deserves the praise it received.'\n",
      " b'As others have mentioned, all the women that go nude in this film are mostly absolutely gorgeous. The plot very ably shows the hypocrisy of the female libido. When men are around they want to be pursued, but when no \"men\" are around, they become the pursuers of a 14 year old boy. And the boy becomes a man really fast (we should all be so lucky at this age!). He then gets up the courage to pursue his true love.'], shape=(5,), dtype=string)\n",
      "tf.Tensor([0 0 0 1 1], shape=(5,), dtype=int64)\n"
     ]
    }
   ],
   "source": [
    "#each example is a sentence representing movie review and label\n",
    "#label is 0 for negative and 1 for positive\n",
    "#looking at first couple examples\n",
    "train_examples_batch, train_labels_batch = next(iter(train_data.batch(5)))\n",
    "print(train_examples_batch)\n",
    "print(train_labels_batch)"
   ]
  },
  {
   "cell_type": "markdown",
   "metadata": {},
   "source": [
    "## How do we represent the text data?\n",
    "\n",
    "**One way to represent the text is to convert sentences into embeddings vectors. We can use a pre-trained text embedding as the first layer, which will have three advantages:**\n",
    "\n",
    "**1. we don't have to worry about text preprocessing**   \n",
    "**2. we can benefit from transfer learning**  \n",
    "**3. the embedding has a fixed size, so it's simpler to process**  \n",
    "\n",
    "**For this example we will use a pre-trained text embedding model from TensorFlow Hub called google/tf2-preview/gnews-swivel-20dim/1.**\n",
    "\n",
    "**Let's first create a Keras layer that uses a TensorFlow Hub model to embed the sentences, and try it out on a couple of input examples. Note that no matter the length of the input text, the output shape of the embeddings is: (num_examples, embedding_dimension)**"
   ]
  },
  {
   "cell_type": "code",
   "execution_count": 15,
   "metadata": {},
   "outputs": [
    {
     "data": {
      "text/plain": [
       "<tf.Tensor: shape=(3, 20), dtype=float32, numpy=\n",
       "array([[ 1.765786  , -3.882232  ,  3.9134233 , -1.5557289 , -3.3362343 ,\n",
       "        -1.7357955 , -1.9954445 ,  1.2989551 ,  5.081598  , -1.1041286 ,\n",
       "        -2.0503852 , -0.72675157, -0.65675956,  0.24436149, -3.7208383 ,\n",
       "         2.0954835 ,  2.2969332 , -2.0689783 , -2.9489717 , -1.1315987 ],\n",
       "       [ 1.8804485 , -2.5852382 ,  3.4066997 ,  1.0982676 , -4.056685  ,\n",
       "        -4.891284  , -2.785554  ,  1.3874227 ,  3.8476458 , -0.9256538 ,\n",
       "        -1.896706  ,  1.2113281 ,  0.11474707,  0.76209456, -4.8791065 ,\n",
       "         2.906149  ,  4.7087674 , -2.3652055 , -3.5015898 , -1.6390051 ],\n",
       "       [ 0.71152234, -0.6353217 ,  1.7385626 , -1.1168286 , -0.5451594 ,\n",
       "        -1.1808156 ,  0.09504455,  1.4653089 ,  0.66059524,  0.79308075,\n",
       "        -2.2268345 ,  0.07446612, -1.4075904 , -0.70645386, -1.907037  ,\n",
       "         1.4419787 ,  1.9551861 , -0.42660055, -2.8022065 ,  0.43727064]],\n",
       "      dtype=float32)>"
      ]
     },
     "execution_count": 15,
     "metadata": {},
     "output_type": "execute_result"
    }
   ],
   "source": [
    "embedding = \"https://tfhub.dev/google/tf2-preview/gnews-swivel-20dim/1\"\n",
    "hub_layer = hub.KerasLayer(embedding, input_shape=[], \n",
    "                           dtype=tf.string, trainable=True)\n",
    "hub_layer(train_examples_batch[:3])"
   ]
  },
  {
   "cell_type": "markdown",
   "metadata": {},
   "source": [
    "**Now let's build the full model:**"
   ]
  },
  {
   "cell_type": "code",
   "execution_count": 23,
   "metadata": {},
   "outputs": [
    {
     "name": "stdout",
     "output_type": "stream",
     "text": [
      "Model: \"sequential_1\"\n",
      "_________________________________________________________________\n",
      "Layer (type)                 Output Shape              Param #   \n",
      "=================================================================\n",
      "keras_layer (KerasLayer)     (None, 20)                400020    \n",
      "_________________________________________________________________\n",
      "dense_2 (Dense)              (None, 16)                336       \n",
      "_________________________________________________________________\n",
      "dense_3 (Dense)              (None, 1)                 17        \n",
      "=================================================================\n",
      "Total params: 400,373\n",
      "Trainable params: 400,373\n",
      "Non-trainable params: 0\n",
      "_________________________________________________________________\n"
     ]
    }
   ],
   "source": [
    "model = tf.keras.Sequential()\n",
    "model.add(hub_layer)\n",
    "model.add(tf.keras.layers.Dense(16, activation='relu'))\n",
    "model.add(tf.keras.layers.Dense(1))\n",
    "\n",
    "model.summary()"
   ]
  },
  {
   "cell_type": "markdown",
   "metadata": {},
   "source": [
    "## The layers are stacked sequentially to build the classifier:\n",
    "\n",
    "**1. The first layer is a TensorFlow Hub layer. This layer uses a pre-trained Saved Model to map a sentence into its embedding vector. The pre-trained text embedding model that we are using (google/tf2-preview/gnews-swivel-20dim/1) splits the sentence into tokens, embeds each token and then combines the embedding. The resulting dimensions are: (num_examples, embedding_dimension).**\n",
    "\n",
    "**2. This fixed-length output vector is piped through a fully-connected (Dense) layer with 16 hidden units.**\n",
    "\n",
    "**3. The last layer is densely connected with a single output node. Using the sigmoid activation function, this value is a float between 0 and 1, representing a probability, or confidence level.**\n",
    "\n",
    "**Let's compile the model.**"
   ]
  },
  {
   "cell_type": "code",
   "execution_count": 24,
   "metadata": {},
   "outputs": [],
   "source": [
    "model.compile(optimizer='adam',\n",
    "              loss=tf.keras.losses.BinaryCrossentropy(from_logits=True),\n",
    "              metrics=['accuracy'])"
   ]
  },
  {
   "cell_type": "code",
   "execution_count": 18,
   "metadata": {},
   "outputs": [
    {
     "name": "stdout",
     "output_type": "stream",
     "text": [
      "None\n"
     ]
    }
   ],
   "source": [
    "#save the model at this location after every epoch\n",
    "checkpoint_path = '/Users/benjamin.jones/Desktop/Movie Reviews/cp-{epoch:04d}' #unique name for each saved checkpoint (after every 1 epoch)\n",
    "checkpoint_dir = os.path.dirname(checkpoint_path)\n",
    "cp_callback = tf.keras.callbacks.ModelCheckpoint(checkpoint_path,\n",
    "                                                save_weights_only=True,\n",
    "                                                verbose=1,\n",
    "                                                save_freq='epoch' #save after every epoch\n",
    "                                                )\n",
    "latest = tf.train.latest_checkpoint(checkpoint_dir) #returns file name of latest checkpoint\n",
    "print(latest)"
   ]
  },
  {
   "cell_type": "code",
   "execution_count": 20,
   "metadata": {},
   "outputs": [],
   "source": [
    "#Optional: loading a saved model\n",
    "model.load_weights(latest) #loads weights of the most reccent saved model (adjust if latest not desired)"
   ]
  },
  {
   "cell_type": "code",
   "execution_count": 25,
   "metadata": {
    "scrolled": true
   },
   "outputs": [
    {
     "name": "stdout",
     "output_type": "stream",
     "text": [
      "Epoch 1/20\n",
      "     30/Unknown - 2s 56ms/step - loss: 0.7224 - accuracy: 0.5201\n",
      "Epoch 00001: saving model to /Users/benjamin.jones/Desktop/Movie Reviews/cp-0001\n",
      "30/30 [==============================] - 3s 87ms/step - loss: 0.7225 - accuracy: 0.5201 - val_loss: 0.6352 - val_accuracy: 0.6011\n",
      "Epoch 2/20\n",
      "29/30 [============================>.] - ETA: 0s - loss: 0.5433 - accuracy: 0.6967\n",
      "Epoch 00002: saving model to /Users/benjamin.jones/Desktop/Movie Reviews/cp-0002\n",
      "30/30 [==============================] - 2s 73ms/step - loss: 0.5408 - accuracy: 0.6975 - val_loss: 0.5149 - val_accuracy: 0.7362\n",
      "Epoch 3/20\n",
      "29/30 [============================>.] - ETA: 0s - loss: 0.4130 - accuracy: 0.8122\n",
      "Epoch 00003: saving model to /Users/benjamin.jones/Desktop/Movie Reviews/cp-0003\n",
      "30/30 [==============================] - 2s 72ms/step - loss: 0.4112 - accuracy: 0.8121 - val_loss: 0.4251 - val_accuracy: 0.7866\n",
      "Epoch 4/20\n",
      "29/30 [============================>.] - ETA: 0s - loss: 0.3146 - accuracy: 0.8750\n",
      "Epoch 00004: saving model to /Users/benjamin.jones/Desktop/Movie Reviews/cp-0004\n",
      "30/30 [==============================] - 2s 73ms/step - loss: 0.3141 - accuracy: 0.8755 - val_loss: 0.3663 - val_accuracy: 0.8367\n",
      "Epoch 5/20\n",
      "29/30 [============================>.] - ETA: 0s - loss: 0.2507 - accuracy: 0.9116\n",
      "Epoch 00005: saving model to /Users/benjamin.jones/Desktop/Movie Reviews/cp-0005\n",
      "30/30 [==============================] - 2s 73ms/step - loss: 0.2491 - accuracy: 0.9118 - val_loss: 0.3340 - val_accuracy: 0.8534\n",
      "Epoch 6/20\n",
      "29/30 [============================>.] - ETA: 0s - loss: 0.2067 - accuracy: 0.9305\n",
      "Epoch 00006: saving model to /Users/benjamin.jones/Desktop/Movie Reviews/cp-0006\n",
      "30/30 [==============================] - 2s 72ms/step - loss: 0.2070 - accuracy: 0.9303 - val_loss: 0.3168 - val_accuracy: 0.8564\n",
      "Epoch 7/20\n",
      "29/30 [============================>.] - ETA: 0s - loss: 0.1755 - accuracy: 0.9431\n",
      "Epoch 00007: saving model to /Users/benjamin.jones/Desktop/Movie Reviews/cp-0007\n",
      "30/30 [==============================] - 2s 74ms/step - loss: 0.1744 - accuracy: 0.9433 - val_loss: 0.3079 - val_accuracy: 0.8657\n",
      "Epoch 8/20\n",
      "29/30 [============================>.] - ETA: 0s - loss: 0.1493 - accuracy: 0.9544\n",
      "Epoch 00008: saving model to /Users/benjamin.jones/Desktop/Movie Reviews/cp-0008\n",
      "30/30 [==============================] - 2s 72ms/step - loss: 0.1487 - accuracy: 0.9545 - val_loss: 0.3060 - val_accuracy: 0.8666\n",
      "Epoch 9/20\n",
      "29/30 [============================>.] - ETA: 0s - loss: 0.1278 - accuracy: 0.9619\n",
      "Epoch 00009: saving model to /Users/benjamin.jones/Desktop/Movie Reviews/cp-0009\n",
      "30/30 [==============================] - 2s 74ms/step - loss: 0.1276 - accuracy: 0.9622 - val_loss: 0.3069 - val_accuracy: 0.8706\n",
      "Epoch 10/20\n",
      "29/30 [============================>.] - ETA: 0s - loss: 0.1118 - accuracy: 0.9696\n",
      "Epoch 00010: saving model to /Users/benjamin.jones/Desktop/Movie Reviews/cp-0010\n",
      "30/30 [==============================] - 2s 74ms/step - loss: 0.1113 - accuracy: 0.9695 - val_loss: 0.3131 - val_accuracy: 0.8716\n",
      "Epoch 11/20\n",
      "29/30 [============================>.] - ETA: 0s - loss: 0.0978 - accuracy: 0.9742\n",
      "Epoch 00011: saving model to /Users/benjamin.jones/Desktop/Movie Reviews/cp-0011\n",
      "30/30 [==============================] - 2s 75ms/step - loss: 0.0977 - accuracy: 0.9741 - val_loss: 0.3161 - val_accuracy: 0.8723\n",
      "Epoch 12/20\n",
      "28/30 [===========================>..] - ETA: 0s - loss: 0.0862 - accuracy: 0.9779\n",
      "Epoch 00012: saving model to /Users/benjamin.jones/Desktop/Movie Reviews/cp-0012\n",
      "30/30 [==============================] - 2s 75ms/step - loss: 0.0860 - accuracy: 0.9780 - val_loss: 0.3237 - val_accuracy: 0.8728\n",
      "Epoch 13/20\n",
      "28/30 [===========================>..] - ETA: 0s - loss: 0.0766 - accuracy: 0.9812\n",
      "Epoch 00013: saving model to /Users/benjamin.jones/Desktop/Movie Reviews/cp-0013\n",
      "30/30 [==============================] - 2s 74ms/step - loss: 0.0761 - accuracy: 0.9814 - val_loss: 0.3327 - val_accuracy: 0.8730\n",
      "Epoch 14/20\n",
      "29/30 [============================>.] - ETA: 0s - loss: 0.0671 - accuracy: 0.9850\n",
      "Epoch 00014: saving model to /Users/benjamin.jones/Desktop/Movie Reviews/cp-0014\n",
      "30/30 [==============================] - 2s 74ms/step - loss: 0.0683 - accuracy: 0.9848 - val_loss: 0.3411 - val_accuracy: 0.8719\n",
      "Epoch 15/20\n",
      "29/30 [============================>.] - ETA: 0s - loss: 0.0604 - accuracy: 0.9871\n",
      "Epoch 00015: saving model to /Users/benjamin.jones/Desktop/Movie Reviews/cp-0015\n",
      "30/30 [==============================] - 2s 75ms/step - loss: 0.0602 - accuracy: 0.9872 - val_loss: 0.3523 - val_accuracy: 0.8662\n",
      "Epoch 16/20\n",
      "28/30 [===========================>..] - ETA: 0s - loss: 0.0543 - accuracy: 0.9893\n",
      "Epoch 00016: saving model to /Users/benjamin.jones/Desktop/Movie Reviews/cp-0016\n",
      "30/30 [==============================] - 2s 73ms/step - loss: 0.0544 - accuracy: 0.9890 - val_loss: 0.3605 - val_accuracy: 0.8667\n",
      "Epoch 17/20\n",
      "28/30 [===========================>..] - ETA: 0s - loss: 0.0494 - accuracy: 0.9905\n",
      "Epoch 00017: saving model to /Users/benjamin.jones/Desktop/Movie Reviews/cp-0017\n",
      "30/30 [==============================] - 2s 72ms/step - loss: 0.0488 - accuracy: 0.9907 - val_loss: 0.3686 - val_accuracy: 0.8692\n",
      "Epoch 18/20\n",
      "29/30 [============================>.] - ETA: 0s - loss: 0.0447 - accuracy: 0.9916\n",
      "Epoch 00018: saving model to /Users/benjamin.jones/Desktop/Movie Reviews/cp-0018\n",
      "30/30 [==============================] - 2s 73ms/step - loss: 0.0444 - accuracy: 0.9917 - val_loss: 0.3797 - val_accuracy: 0.8653\n",
      "Epoch 19/20\n",
      "28/30 [===========================>..] - ETA: 0s - loss: 0.0412 - accuracy: 0.9926\n",
      "Epoch 00019: saving model to /Users/benjamin.jones/Desktop/Movie Reviews/cp-0019\n",
      "30/30 [==============================] - 2s 73ms/step - loss: 0.0406 - accuracy: 0.9927 - val_loss: 0.3909 - val_accuracy: 0.8630\n",
      "Epoch 20/20\n",
      "29/30 [============================>.] - ETA: 0s - loss: 0.0379 - accuracy: 0.9936\n",
      "Epoch 00020: saving model to /Users/benjamin.jones/Desktop/Movie Reviews/cp-0020\n",
      "30/30 [==============================] - 2s 74ms/step - loss: 0.0379 - accuracy: 0.9936 - val_loss: 0.3980 - val_accuracy: 0.8669\n"
     ]
    }
   ],
   "source": [
    "#begin or resume training\n",
    "history = model.fit(train_data.shuffle(10000).batch(512),\n",
    "                    epochs=20,\n",
    "                    validation_data=validation_data.batch(512),\n",
    "                    verbose=1,\n",
    "                   callbacks=[cp_callback])\n"
   ]
  },
  {
   "cell_type": "markdown",
   "metadata": {},
   "source": [
    "## Evaluate the model\n",
    "\n",
    "**Let's see how the model performs. Two values will be returned. Loss (a number which represents our error, lower values are better), and accuracy.**"
   ]
  },
  {
   "cell_type": "code",
   "execution_count": 27,
   "metadata": {},
   "outputs": [
    {
     "name": "stdout",
     "output_type": "stream",
     "text": [
      "loss: 0.436\n",
      "accuracy: 0.854\n"
     ]
    }
   ],
   "source": [
    "results = model.evaluate(test_data.batch(512), verbose=2)\n",
    "\n",
    "for name, value in zip(model.metrics_names, results):\n",
    "  print(\"%s: %.3f\" % (name, value))"
   ]
  },
  {
   "cell_type": "code",
   "execution_count": 26,
   "metadata": {},
   "outputs": [
    {
     "data": {
      "image/png": "[encoded data removed]",
      "text/plain": [
       "<Figure size 576x576 with 2 Axes>"
      ]
     },
     "metadata": {
      "needs_background": "light"
     },
     "output_type": "display_data"
    }
   ],
   "source": [
    "#optional, visual analysis\n",
    "acc = history.history['accuracy']\n",
    "val_acc = history.history['val_accuracy']\n",
    "\n",
    "loss = history.history['loss']\n",
    "val_loss = history.history['val_loss']\n",
    "\n",
    "epochs_range = range(20)\n",
    "\n",
    "plt.figure(figsize=(8, 8))\n",
    "plt.subplot(1, 2, 1)\n",
    "plt.plot(epochs_range, acc, label='Training Accuracy')\n",
    "plt.plot(epochs_range, val_acc, label='Validation Accuracy')\n",
    "plt.legend(loc='lower right')\n",
    "plt.title('Training and Validation Accuracy')\n",
    "\n",
    "plt.subplot(1, 2, 2)\n",
    "plt.plot(epochs_range, loss, label='Training Loss')\n",
    "plt.plot(epochs_range, val_loss, label='Validation Loss')\n",
    "plt.legend(loc='upper right')\n",
    "plt.title('Training and Validation Loss')\n",
    "plt.show()"
   ]
  }
 ],
 "metadata": {
  "kernelspec": {
   "display_name": "Python 3",
   "language": "python",
   "name": "python3"
  },
  "language_info": {
   "codemirror_mode": {
    "name": "ipython",
    "version": 3
   },
   "file_extension": ".py",
   "mimetype": "text/x-python",
   "name": "python",
   "nbconvert_exporter": "python",
   "pygments_lexer": "ipython3",
   "version": "3.7.4"
  }
 },
 "nbformat": 4,
 "nbformat_minor": 2
}
